{
 "cells": [
  {
   "cell_type": "code",
   "execution_count": 1,
   "id": "e9160cdf",
   "metadata": {},
   "outputs": [
    {
     "name": "stderr",
     "output_type": "stream",
     "text": [
      "/home/hubert/Documents/PredictiveMaintenanceGearBox/venv/lib/python3.8/site-packages/torchvision/io/image.py:13: UserWarning: Failed to load image Python extension: /home/hubert/Documents/PredictiveMaintenanceGearBox/venv/lib/python3.8/site-packages/torchvision/image.so: undefined symbol: _ZN3c106detail19maybe_wrap_dim_slowEllb\n",
      "  warn(f\"Failed to load image Python extension: {e}\")\n"
     ]
    }
   ],
   "source": [
    "from tsai.all import *\n",
    "import logging\n",
    "import matplotlib.pyplot as plt\n",
    "import zarr\n",
    "import sklearn.metrics as skm\n",
    "import seaborn as sns\n",
    "# import tensorflow\n",
    "# from tensorflow.python.client import device_lib"
   ]
  },
  {
   "cell_type": "code",
   "execution_count": 2,
   "id": "54988937",
   "metadata": {},
   "outputs": [],
   "source": [
    "# def get_available_devices():\n",
    "#     local_device_protos = device_lib.list_local_devices()\n",
    "#     return [x.name for x in local_device_protos]\n",
    "\n",
    "# print(get_available_devices())"
   ]
  },
  {
   "cell_type": "code",
   "execution_count": 3,
   "id": "95164bcc",
   "metadata": {},
   "outputs": [
    {
     "name": "stdout",
     "output_type": "stream",
     "text": [
      "os             : Linux-5.4.0-146-generic-x86_64-with-glibc2.29\n",
      "python         : 3.8.10\n",
      "tsai           : 0.3.1\n",
      "fastai         : 2.7.9\n",
      "fastcore       : 1.5.24\n",
      "torch          : 1.11.0+cu102\n",
      "device         : 1 gpu (['NVIDIA GeForce GTX 980 Ti'])\n",
      "cpu cores      : 12\n",
      "RAM            : 15.55 GB\n",
      "GPU memory     : [5.94] GB\n"
     ]
    }
   ],
   "source": [
    "computer_setup()"
   ]
  },
  {
   "cell_type": "code",
   "execution_count": 4,
   "id": "d9b6485d",
   "metadata": {},
   "outputs": [],
   "source": [
    "logging.basicConfig(level=logging.INFO)\n",
    "logger = logging.getLogger(__name__)\n",
    "%matplotlib inline"
   ]
  },
  {
   "cell_type": "code",
   "execution_count": 5,
   "id": "56927a8a",
   "metadata": {},
   "outputs": [],
   "source": [
    "def list_from_file(filename):\n",
    "    with open(filename, \"rb\") as fp:\n",
    "        return pickle.load(fp)"
   ]
  },
  {
   "cell_type": "code",
   "execution_count": 6,
   "id": "75aecc5d",
   "metadata": {},
   "outputs": [],
   "source": [
    "#Size of data\n",
    "valid_size = 0.2\n",
    "test_size = 0.05\n",
    "str_size_of_data = 'valid_size_' + str(valid_size) + 'test_size_' + str(test_size)\n",
    "# time resolution\n",
    "# example 0.001 s -> 0.002 s \n",
    "resolution = 0.01\n",
    "#dates\n",
    "file_data = '23_11'\n",
    "today_date = '17_01'\n",
    "#Problem to solve\n",
    "problem = \"Multiclass_one_model\"\n",
    "\n",
    "file_for_train_data = 'train_data_' + file_data\n",
    "file_for_train_data_x = file_for_train_data + '_x'\n",
    "file_for_train_data_y = file_for_train_data + '_y'\n",
    "\n",
    "folder_to_save_base = 'models' + '/' + problem + '/' + str_size_of_data + '/'"
   ]
  },
  {
   "cell_type": "code",
   "execution_count": 7,
   "id": "af9b7d2a",
   "metadata": {},
   "outputs": [
    {
     "name": "stderr",
     "output_type": "stream",
     "text": [
      "INFO:__main__:Get train data from files: train_data_23_11_x, train_data_23_11_y\n"
     ]
    }
   ],
   "source": [
    "logger.info(f\"Get train data from files: {file_for_train_data_x}, {file_for_train_data_y}\")\n",
    "X = list_from_file(file_for_train_data_x)\n",
    "Y = list_from_file(file_for_train_data_y)"
   ]
  },
  {
   "cell_type": "code",
   "execution_count": 8,
   "id": "53d355f8",
   "metadata": {},
   "outputs": [],
   "source": [
    "# Define models to train\n",
    "models = [\n",
    "    # {\n",
    "    #     'name': 'LSTM', \n",
    "    #     'model': LSTM, \n",
    "    #     'params': [\n",
    "    #         {'hidden_size': 100, 'bidirectional': True},\n",
    "    #         {'hidden_size': 1000, 'bidirectional': True},\n",
    "    #     ]\n",
    "    # },\n",
    "    # {\n",
    "    #     'name': 'LSTM_FCN', \n",
    "    #     'model': LSTM_FCN, \n",
    "    #     'params': [\n",
    "    #         {'hidden_size': 100, 'bidirectional': True},\n",
    "    #         {'hidden_size': 1000, 'bidirectional': True},\n",
    "    #     ]\n",
    "    # },\n",
    "    {\n",
    "        'name': 'FCNPlus', \n",
    "        'model': FCNPlus, \n",
    "        'params': [\n",
    "            {'hidden_size': 100},\n",
    "            {'hidden_size': 1000, 'fc_dropout': .3},\n",
    "        ]\n",
    "    },\n",
    "    {\n",
    "        'name': 'TST', \n",
    "        'model': TST, \n",
    "        'params': [\n",
    "            {'hidden_size': 1000, 'dropout': .3},\n",
    "            {'hidden_size': 1000, 'dropout': .1, 'fc_dropout': .8},\n",
    "        ]\n",
    "    },\n",
    "]"
   ]
  },
  {
   "cell_type": "code",
   "execution_count": 9,
   "id": "59c384e5",
   "metadata": {},
   "outputs": [],
   "source": [
    "path = Path('data')\n",
    "if not os.path.exists(path): os.makedirs(path)"
   ]
  },
  {
   "cell_type": "code",
   "execution_count": 10,
   "id": "f96b1e3c",
   "metadata": {},
   "outputs": [
    {
     "name": "stderr",
     "output_type": "stream",
     "text": [
      "INFO:__main__:Create numpy array with X and Y\n"
     ]
    },
    {
     "data": {
      "text/plain": [
       "(420, 4, 4001)"
      ]
     },
     "execution_count": 10,
     "metadata": {},
     "output_type": "execute_result"
    }
   ],
   "source": [
    "logger.info(\"Create numpy array with X and Y\")\n",
    "X_largest = np.array(X)\n",
    "y_large = np.array(Y)\n",
    "\n",
    "# logger.info(\"Sample X for every 100 samples\")\n",
    "# to take with resolution defined before:\n",
    "samples_to_take = resolution * 1000\n",
    "X_large = X_largest[:, :, :: int(samples_to_take)]\n",
    "X_large.shape"
   ]
  },
  {
   "cell_type": "code",
   "execution_count": 11,
   "id": "fde2de16",
   "metadata": {},
   "outputs": [],
   "source": [
    "X_large_zarr = zarr.open(path/'X_large.zarr', mode='w', shape=X_large.shape, dtype=X_large.dtype, chunks=(1, -1, -1))\n",
    "# chunks=(1, -1, -1) == (1, None, None)\n",
    "X_large_zarr[:] = X_large"
   ]
  },
  {
   "cell_type": "code",
   "execution_count": 12,
   "id": "3de32b22",
   "metadata": {},
   "outputs": [],
   "source": [
    "X_large_zarr = zarr.open(path/'X_large.zarr', mode='r')\n",
    "y_large_zarr = zarr.open(path/'y_large.zarr', mode='w', shape=y_large.shape, dtype=y_large.dtype, chunks=False) # y data is small and don't need to be chunked\n",
    "y_large_zarr[:] = y_large"
   ]
  },
  {
   "cell_type": "code",
   "execution_count": 13,
   "id": "04e619ef",
   "metadata": {},
   "outputs": [
    {
     "name": "stderr",
     "output_type": "stream",
     "text": [
      "INFO:__main__:Split data to train and valid\n"
     ]
    },
    {
     "name": "stdout",
     "output_type": "stream",
     "text": [
      "stratify set to False as the least populated class in o has only 1 member, which is too few.\n"
     ]
    },
    {
     "data": {
      "image/png": "[encoded data removed]",
      "text/plain": [
       "<Figure size 1600x50 with 1 Axes>"
      ]
     },
     "metadata": {},
     "output_type": "display_data"
    },
    {
     "data": {
      "text/plain": [
       "((#315) [355,357,240,216,334,3,22,96,117,407...],\n",
       " (#84) [67,266,416,154,25,112,217,419,199,186...],\n",
       " (#21) [175,145,63,387,231,293,287,289,315,248...])"
      ]
     },
     "execution_count": 13,
     "metadata": {},
     "output_type": "execute_result"
    }
   ],
   "source": [
    "train_only              = False  # set to True for debugging (valid = train)\n",
    "stratify                = True\n",
    "balance                 = False\n",
    "shuffle                 = True\n",
    "predefined_splits       = None\n",
    "show_plot               = True \n",
    "\n",
    "\n",
    "check_splits = True\n",
    "random_state = 23\n",
    "logger.info(\"Split data to train and valid\")\n",
    "#Set show plot to True if you want to see split, but this stops main thread\n",
    "splits = get_splits(X_large_zarr, valid_size=valid_size, test_size=test_size, shuffle=shuffle, balance=balance, stratify=stratify,\n",
    "                    train_only=train_only, check_splits=check_splits, random_state=random_state, show_plot=show_plot, verbose=True)\n",
    "splits"
   ]
  },
  {
   "cell_type": "code",
   "execution_count": 14,
   "id": "fe252770",
   "metadata": {},
   "outputs": [
    {
     "ename": "RuntimeError",
     "evalue": "CUDA error: out of memory\nCUDA kernel errors might be asynchronously reported at some other API call,so the stacktrace below might be incorrect.\nFor debugging consider passing CUDA_LAUNCH_BLOCKING=1.",
     "output_type": "error",
     "traceback": [
      "\u001b[0;31m---------------------------------------------------------------------------\u001b[0m",
      "\u001b[0;31mRuntimeError\u001b[0m                              Traceback (most recent call last)",
      "\u001b[1;32m/home/hubert/Documents/PredictiveMaintenanceGearBox/tsai_model_zarr_multiple.ipynb Cell 14\u001b[0m in \u001b[0;36m<cell line: 3>\u001b[0;34m()\u001b[0m\n\u001b[1;32m      <a href='vscode-notebook-cell://ssh-remote%2B172.22.145.100/home/hubert/Documents/PredictiveMaintenanceGearBox/tsai_model_zarr_multiple.ipynb#X16sdnNjb2RlLXJlbW90ZQ%3D%3D?line=0'>1</a>\u001b[0m tfms  \u001b[39m=\u001b[39m [\u001b[39mNone\u001b[39;00m, TSClassification()] \u001b[39m# TSClassification == Categorize\u001b[39;00m\n\u001b[1;32m      <a href='vscode-notebook-cell://ssh-remote%2B172.22.145.100/home/hubert/Documents/PredictiveMaintenanceGearBox/tsai_model_zarr_multiple.ipynb#X16sdnNjb2RlLXJlbW90ZQ%3D%3D?line=1'>2</a>\u001b[0m batch_tfms \u001b[39m=\u001b[39m TSStandardize(by_var\u001b[39m=\u001b[39m\u001b[39mTrue\u001b[39;00m)\n\u001b[0;32m----> <a href='vscode-notebook-cell://ssh-remote%2B172.22.145.100/home/hubert/Documents/PredictiveMaintenanceGearBox/tsai_model_zarr_multiple.ipynb#X16sdnNjb2RlLXJlbW90ZQ%3D%3D?line=2'>3</a>\u001b[0m dls \u001b[39m=\u001b[39m get_ts_dls(X_large_zarr, y_large_zarr, splits\u001b[39m=\u001b[39;49msplits, tfms\u001b[39m=\u001b[39;49mtfms, batch_tfms\u001b[39m=\u001b[39;49mbatch_tfms, inplace\u001b[39m=\u001b[39;49m\u001b[39mFalse\u001b[39;49;00m, bs\u001b[39m=\u001b[39;49m\u001b[39m8\u001b[39;49m, num_workers\u001b[39m=\u001b[39;49m\u001b[39m12\u001b[39;49m) \n\u001b[1;32m      <a href='vscode-notebook-cell://ssh-remote%2B172.22.145.100/home/hubert/Documents/PredictiveMaintenanceGearBox/tsai_model_zarr_multiple.ipynb#X16sdnNjb2RlLXJlbW90ZQ%3D%3D?line=3'>4</a>\u001b[0m \u001b[39m# num_workers = 1 *cpus\u001b[39;00m\n\u001b[1;32m      <a href='vscode-notebook-cell://ssh-remote%2B172.22.145.100/home/hubert/Documents/PredictiveMaintenanceGearBox/tsai_model_zarr_multiple.ipynb#X16sdnNjb2RlLXJlbW90ZQ%3D%3D?line=4'>5</a>\u001b[0m dls\u001b[39m.\u001b[39mshow_batch(sharey\u001b[39m=\u001b[39m\u001b[39mTrue\u001b[39;00m)\n",
      "File \u001b[0;32m~/Documents/PredictiveMaintenanceGearBox/venv/lib/python3.8/site-packages/tsai/data/core.py:988\u001b[0m, in \u001b[0;36mget_ts_dls\u001b[0;34m(X, y, splits, sel_vars, sel_steps, tfms, inplace, path, bs, batch_tfms, num_workers, device, shuffle_train, drop_last, weights, partial_n, sampler, sort, **kwargs)\u001b[0m\n\u001b[1;32m    986\u001b[0m     \u001b[39massert\u001b[39;00m \u001b[39mlen\u001b[39m(X) \u001b[39m==\u001b[39m \u001b[39mlen\u001b[39m(weights)\n\u001b[1;32m    987\u001b[0m     \u001b[39mif\u001b[39;00m splits \u001b[39mis\u001b[39;00m \u001b[39mnot\u001b[39;00m \u001b[39mNone\u001b[39;00m: weights \u001b[39m=\u001b[39m [weights[split] \u001b[39mif\u001b[39;00m i \u001b[39m==\u001b[39m \u001b[39m0\u001b[39m \u001b[39melse\u001b[39;00m \u001b[39mNone\u001b[39;00m \u001b[39mfor\u001b[39;00m i,split \u001b[39min\u001b[39;00m \u001b[39menumerate\u001b[39m(splits)] \u001b[39m# weights only applied to train set\u001b[39;00m\n\u001b[0;32m--> 988\u001b[0m dls   \u001b[39m=\u001b[39m TSDataLoaders\u001b[39m.\u001b[39;49mfrom_dsets(dsets\u001b[39m.\u001b[39;49mtrain, dsets\u001b[39m.\u001b[39;49mvalid, path\u001b[39m=\u001b[39;49mpath, bs\u001b[39m=\u001b[39;49mbs, batch_tfms\u001b[39m=\u001b[39;49mbatch_tfms, num_workers\u001b[39m=\u001b[39;49mnum_workers,\n\u001b[1;32m    989\u001b[0m                                  device\u001b[39m=\u001b[39;49mdevice, shuffle_train\u001b[39m=\u001b[39;49mshuffle_train, drop_last\u001b[39m=\u001b[39;49mdrop_last, weights\u001b[39m=\u001b[39;49mweights,\n\u001b[1;32m    990\u001b[0m                                  partial_n\u001b[39m=\u001b[39;49mpartial_n, sampler\u001b[39m=\u001b[39;49msampler, sort\u001b[39m=\u001b[39;49msort, \u001b[39m*\u001b[39;49m\u001b[39m*\u001b[39;49mkwargs)\n\u001b[1;32m    991\u001b[0m \u001b[39mreturn\u001b[39;00m dls\n",
      "File \u001b[0;32m~/Documents/PredictiveMaintenanceGearBox/venv/lib/python3.8/site-packages/tsai/data/core.py:828\u001b[0m, in \u001b[0;36mNumpyDataLoaders.from_dsets\u001b[0;34m(cls, path, bs, num_workers, batch_tfms, device, shuffle_train, drop_last, weights, partial_n, sampler, sort, *ds, **kwargs)\u001b[0m\n\u001b[1;32m    825\u001b[0m \u001b[39mif\u001b[39;00m \u001b[39mlen\u001b[39m(sampler) \u001b[39m!=\u001b[39m \u001b[39mlen\u001b[39m(ds): sampler \u001b[39m=\u001b[39m sampler \u001b[39m*\u001b[39m \u001b[39mlen\u001b[39m(ds)\n\u001b[1;32m    826\u001b[0m loaders \u001b[39m=\u001b[39m [\u001b[39mcls\u001b[39m\u001b[39m.\u001b[39m_dl_type(d, bs\u001b[39m=\u001b[39mb, num_workers\u001b[39m=\u001b[39mnum_workers, batch_tfms\u001b[39m=\u001b[39mbatch_tfms, weights\u001b[39m=\u001b[39mw, partial_n\u001b[39m=\u001b[39mn, sampler\u001b[39m=\u001b[39ms, sort\u001b[39m=\u001b[39msort, \u001b[39m*\u001b[39m\u001b[39m*\u001b[39mk) \\\n\u001b[1;32m    827\u001b[0m            \u001b[39mfor\u001b[39;00m d,k,b,w,n,s \u001b[39min\u001b[39;00m \u001b[39mzip\u001b[39m(ds, kwargs, bs, weights, partial_n, sampler)]\n\u001b[0;32m--> 828\u001b[0m \u001b[39mreturn\u001b[39;00m \u001b[39mcls\u001b[39;49m(\u001b[39m*\u001b[39;49mloaders, path\u001b[39m=\u001b[39;49mpath, device\u001b[39m=\u001b[39;49mdevice)\n",
      "File \u001b[0;32m~/Documents/PredictiveMaintenanceGearBox/venv/lib/python3.8/site-packages/tsai/data/core.py:774\u001b[0m, in \u001b[0;36mNumpyDataLoaders.__init__\u001b[0;34m(self, path, device, *loaders)\u001b[0m\n\u001b[1;32m    772\u001b[0m \u001b[39mdef\u001b[39;00m \u001b[39m__init__\u001b[39m(\u001b[39mself\u001b[39m, \u001b[39m*\u001b[39mloaders, path\u001b[39m=\u001b[39m\u001b[39m'\u001b[39m\u001b[39m.\u001b[39m\u001b[39m'\u001b[39m, device\u001b[39m=\u001b[39m\u001b[39mNone\u001b[39;00m):\n\u001b[1;32m    773\u001b[0m     \u001b[39mself\u001b[39m\u001b[39m.\u001b[39mloaders, \u001b[39mself\u001b[39m\u001b[39m.\u001b[39mpath \u001b[39m=\u001b[39m \u001b[39mlist\u001b[39m(loaders), Path(path)\n\u001b[0;32m--> 774\u001b[0m     \u001b[39mself\u001b[39;49m\u001b[39m.\u001b[39;49mdevice \u001b[39m=\u001b[39m ifnone(device, default_device())\n",
      "File \u001b[0;32m~/Documents/PredictiveMaintenanceGearBox/venv/lib/python3.8/site-packages/fastai/data/core.py:225\u001b[0m, in \u001b[0;36mDataLoaders.device\u001b[0;34m(self, d)\u001b[0m\n\u001b[1;32m    221\u001b[0m \u001b[39m@device\u001b[39m\u001b[39m.\u001b[39msetter\n\u001b[1;32m    222\u001b[0m \u001b[39mdef\u001b[39;00m \u001b[39mdevice\u001b[39m(\u001b[39mself\u001b[39m, \n\u001b[1;32m    223\u001b[0m     d \u001b[39m# Device to put `DataLoaders`\u001b[39;00m\n\u001b[1;32m    224\u001b[0m ):\n\u001b[0;32m--> 225\u001b[0m     \u001b[39mfor\u001b[39;00m dl \u001b[39min\u001b[39;00m \u001b[39mself\u001b[39m\u001b[39m.\u001b[39mloaders: dl\u001b[39m.\u001b[39;49mto(d)\n\u001b[1;32m    226\u001b[0m     \u001b[39mself\u001b[39m\u001b[39m.\u001b[39m_device \u001b[39m=\u001b[39m d\n",
      "File \u001b[0;32m~/Documents/PredictiveMaintenanceGearBox/venv/lib/python3.8/site-packages/fastai/data/core.py:182\u001b[0m, in \u001b[0;36mTfmdDL.to\u001b[0;34m(self, device)\u001b[0m\n\u001b[1;32m    180\u001b[0m \u001b[39mself\u001b[39m\u001b[39m.\u001b[39mdevice \u001b[39m=\u001b[39m device\n\u001b[1;32m    181\u001b[0m \u001b[39mfor\u001b[39;00m tfm \u001b[39min\u001b[39;00m \u001b[39mself\u001b[39m\u001b[39m.\u001b[39mafter_batch\u001b[39m.\u001b[39mfs:\n\u001b[0;32m--> 182\u001b[0m     \u001b[39mfor\u001b[39;00m a \u001b[39min\u001b[39;00m L(\u001b[39mgetattr\u001b[39m(tfm, \u001b[39m'\u001b[39m\u001b[39mparameters\u001b[39m\u001b[39m'\u001b[39m, \u001b[39mNone\u001b[39;00m)): \u001b[39msetattr\u001b[39m(tfm, a, \u001b[39mgetattr\u001b[39;49m(tfm, a)\u001b[39m.\u001b[39;49mto(device))\n\u001b[1;32m    183\u001b[0m \u001b[39mreturn\u001b[39;00m \u001b[39mself\u001b[39m\n",
      "File \u001b[0;32m~/Documents/PredictiveMaintenanceGearBox/venv/lib/python3.8/site-packages/fastai/torch_core.py:376\u001b[0m, in \u001b[0;36mTensorBase.__torch_function__\u001b[0;34m(cls, func, types, args, kwargs)\u001b[0m\n\u001b[1;32m    374\u001b[0m \u001b[39mif\u001b[39;00m \u001b[39mcls\u001b[39m\u001b[39m.\u001b[39mdebug \u001b[39mand\u001b[39;00m func\u001b[39m.\u001b[39m\u001b[39m__name__\u001b[39m \u001b[39mnot\u001b[39;00m \u001b[39min\u001b[39;00m (\u001b[39m'\u001b[39m\u001b[39m__str__\u001b[39m\u001b[39m'\u001b[39m,\u001b[39m'\u001b[39m\u001b[39m__repr__\u001b[39m\u001b[39m'\u001b[39m): \u001b[39mprint\u001b[39m(func, types, args, kwargs)\n\u001b[1;32m    375\u001b[0m \u001b[39mif\u001b[39;00m _torch_handled(args, \u001b[39mcls\u001b[39m\u001b[39m.\u001b[39m_opt, func): types \u001b[39m=\u001b[39m (torch\u001b[39m.\u001b[39mTensor,)\n\u001b[0;32m--> 376\u001b[0m res \u001b[39m=\u001b[39m \u001b[39msuper\u001b[39;49m()\u001b[39m.\u001b[39;49m__torch_function__(func, types, args, ifnone(kwargs, {}))\n\u001b[1;32m    377\u001b[0m dict_objs \u001b[39m=\u001b[39m _find_args(args) \u001b[39mif\u001b[39;00m args \u001b[39melse\u001b[39;00m _find_args(\u001b[39mlist\u001b[39m(kwargs\u001b[39m.\u001b[39mvalues()))\n\u001b[1;32m    378\u001b[0m \u001b[39mif\u001b[39;00m \u001b[39missubclass\u001b[39m(\u001b[39mtype\u001b[39m(res),TensorBase) \u001b[39mand\u001b[39;00m dict_objs: res\u001b[39m.\u001b[39mset_meta(dict_objs[\u001b[39m0\u001b[39m],as_copy\u001b[39m=\u001b[39m\u001b[39mTrue\u001b[39;00m)\n",
      "File \u001b[0;32m~/Documents/PredictiveMaintenanceGearBox/venv/lib/python3.8/site-packages/torch/_tensor.py:1142\u001b[0m, in \u001b[0;36mTensor.__torch_function__\u001b[0;34m(cls, func, types, args, kwargs)\u001b[0m\n\u001b[1;32m   1139\u001b[0m     \u001b[39mreturn\u001b[39;00m \u001b[39mNotImplemented\u001b[39m\n\u001b[1;32m   1141\u001b[0m \u001b[39mwith\u001b[39;00m _C\u001b[39m.\u001b[39mDisableTorchFunction():\n\u001b[0;32m-> 1142\u001b[0m     ret \u001b[39m=\u001b[39m func(\u001b[39m*\u001b[39;49margs, \u001b[39m*\u001b[39;49m\u001b[39m*\u001b[39;49mkwargs)\n\u001b[1;32m   1143\u001b[0m     \u001b[39mif\u001b[39;00m func \u001b[39min\u001b[39;00m get_default_nowrap_functions():\n\u001b[1;32m   1144\u001b[0m         \u001b[39mreturn\u001b[39;00m ret\n",
      "\u001b[0;31mRuntimeError\u001b[0m: CUDA error: out of memory\nCUDA kernel errors might be asynchronously reported at some other API call,so the stacktrace below might be incorrect.\nFor debugging consider passing CUDA_LAUNCH_BLOCKING=1."
     ]
    },
    {
     "ename": "",
     "evalue": "",
     "output_type": "error",
     "traceback": [
      "\u001b[1;31mThe Kernel crashed while executing code in the the current cell or a previous cell. Please review the code in the cell(s) to identify a possible cause of the failure. Click <a href='https://aka.ms/vscodeJupyterKernelCrash'>here</a> for more info. View Jupyter <a href='command:jupyter.viewOutput'>log</a> for further details."
     ]
    }
   ],
   "source": [
    "tfms  = [None, TSClassification()] # TSClassification == Categorize\n",
    "batch_tfms = TSStandardize(by_var=True)\n",
    "dls = get_ts_dls(X_large_zarr, y_large_zarr, splits=splits, tfms=tfms, batch_tfms=batch_tfms, inplace=False, bs=8, num_workers=12) \n",
    "# num_workers = 1 *cpus\n",
    "dls.show_batch(sharey=True)"
   ]
  },
  {
   "cell_type": "code",
   "execution_count": null,
   "id": "415bf664",
   "metadata": {},
   "outputs": [],
   "source": [
    "#Take test data\n",
    "X_test , y_test = np.take(X_large_zarr, splits[2], axis=0), np.take(y_large_zarr, splits[2], axis=0)"
   ]
  },
  {
   "cell_type": "code",
   "execution_count": null,
   "id": "d8fa8381",
   "metadata": {},
   "outputs": [
    {
     "data": {
      "text/plain": [
       "(TSTensor(samples:8, vars:4, len:4001, device=cpu, dtype=torch.float32),\n",
       " TensorCategory([6, 4, 5, 4, 6, 7, 3, 4]))"
      ]
     },
     "execution_count": 16,
     "metadata": {},
     "output_type": "execute_result"
    }
   ],
   "source": [
    "valid_dl = dls.valid\n",
    "test_ds = valid_dl.dataset.add_test(X_test, y_test)\n",
    "test_dl = valid_dl.new(test_ds)\n",
    "\n",
    "next(iter(test_dl))"
   ]
  },
  {
   "cell_type": "code",
   "execution_count": null,
   "id": "1f815649",
   "metadata": {},
   "outputs": [],
   "source": [
    "def fit_cycle(stage, learner):\n",
    "    logger.info(f\"Fit {stage} cycle\")\n",
    "    learner.fit_one_cycle(300, lr_max=1e-3)\n",
    "    learner.save('stage'+ str(stage))\n",
    "    learner.recorder.plot_metrics()"
   ]
  },
  {
   "cell_type": "code",
   "execution_count": null,
   "id": "f58ea165",
   "metadata": {},
   "outputs": [
    {
     "name": "stderr",
     "output_type": "stream",
     "text": [
      "INFO:__main__:Training LSTM_FCN...\n",
      "INFO:__main__:With parameters: {'hidden_size': 100, 'bidirectional': True}\n",
      "INFO:__main__:Save learner as stage0\n",
      "INFO:__main__:Folder to save: models/Multiclass_one_model/valid_size_0.2test_size_0.05//LSTM_FCN/100/True\n"
     ]
    },
    {
     "data": {
      "text/html": [
       "\n",
       "<style>\n",
       "    /* Turns off some styling */\n",
       "    progress {\n",
       "        /* gets rid of default border in Firefox and Opera. */\n",
       "        border: none;\n",
       "        /* Needs to be in here for Safari polyfill so background images work as expected. */\n",
       "        background-size: auto;\n",
       "    }\n",
       "    progress:not([value]), progress:not([value])::-webkit-progress-bar {\n",
       "        background: repeating-linear-gradient(45deg, #7e7e7e, #7e7e7e 10px, #5c5c5c 10px, #5c5c5c 20px);\n",
       "    }\n",
       "    .progress-bar-interrupted, .progress-bar-interrupted::-webkit-progress-bar {\n",
       "        background: #F44336;\n",
       "    }\n",
       "</style>\n"
      ],
      "text/plain": [
       "<IPython.core.display.HTML object>"
      ]
     },
     "metadata": {},
     "output_type": "display_data"
    },
    {
     "data": {
      "text/html": [],
      "text/plain": [
       "<IPython.core.display.HTML object>"
      ]
     },
     "metadata": {},
     "output_type": "display_data"
    },
    {
     "name": "stderr",
     "output_type": "stream",
     "text": [
      "INFO:__main__:Fit 1 cycle\n"
     ]
    },
    {
     "data": {
      "text/html": [
       "\n",
       "<style>\n",
       "    /* Turns off some styling */\n",
       "    progress {\n",
       "        /* gets rid of default border in Firefox and Opera. */\n",
       "        border: none;\n",
       "        /* Needs to be in here for Safari polyfill so background images work as expected. */\n",
       "        background-size: auto;\n",
       "    }\n",
       "    progress:not([value]), progress:not([value])::-webkit-progress-bar {\n",
       "        background: repeating-linear-gradient(45deg, #7e7e7e, #7e7e7e 10px, #5c5c5c 10px, #5c5c5c 20px);\n",
       "    }\n",
       "    .progress-bar-interrupted, .progress-bar-interrupted::-webkit-progress-bar {\n",
       "        background: #F44336;\n",
       "    }\n",
       "</style>\n"
      ],
      "text/plain": [
       "<IPython.core.display.HTML object>"
      ]
     },
     "metadata": {},
     "output_type": "display_data"
    },
    {
     "data": {
      "text/html": [
       "\n",
       "    <div>\n",
       "      <progress value='53' class='' max='300' style='width:300px; height:20px; vertical-align: middle;'></progress>\n",
       "      17.67% [53/300 17:35&lt;1:21:58]\n",
       "    </div>\n",
       "    \n",
       "<table border=\"1\" class=\"dataframe\">\n",
       "  <thead>\n",
       "    <tr style=\"text-align: left;\">\n",
       "      <th>epoch</th>\n",
       "      <th>train_loss</th>\n",
       "      <th>valid_loss</th>\n",
       "      <th>accuracy</th>\n",
       "      <th>time</th>\n",
       "    </tr>\n",
       "  </thead>\n",
       "  <tbody>\n",
       "    <tr>\n",
       "      <td>0</td>\n",
       "      <td>2.135750</td>\n",
       "      <td>11.712614</td>\n",
       "      <td>0.273810</td>\n",
       "      <td>00:19</td>\n",
       "    </tr>\n",
       "    <tr>\n",
       "      <td>1</td>\n",
       "      <td>2.051922</td>\n",
       "      <td>14.891035</td>\n",
       "      <td>0.214286</td>\n",
       "      <td>00:19</td>\n",
       "    </tr>\n",
       "    <tr>\n",
       "      <td>2</td>\n",
       "      <td>1.981030</td>\n",
       "      <td>15.833659</td>\n",
       "      <td>0.214286</td>\n",
       "      <td>00:19</td>\n",
       "    </tr>\n",
       "    <tr>\n",
       "      <td>3</td>\n",
       "      <td>1.935107</td>\n",
       "      <td>14.140514</td>\n",
       "      <td>0.273810</td>\n",
       "      <td>00:19</td>\n",
       "    </tr>\n",
       "    <tr>\n",
       "      <td>4</td>\n",
       "      <td>1.888833</td>\n",
       "      <td>15.979909</td>\n",
       "      <td>0.107143</td>\n",
       "      <td>00:19</td>\n",
       "    </tr>\n",
       "    <tr>\n",
       "      <td>5</td>\n",
       "      <td>1.852718</td>\n",
       "      <td>14.584642</td>\n",
       "      <td>0.261905</td>\n",
       "      <td>00:19</td>\n",
       "    </tr>\n",
       "    <tr>\n",
       "      <td>6</td>\n",
       "      <td>1.823737</td>\n",
       "      <td>14.506236</td>\n",
       "      <td>0.107143</td>\n",
       "      <td>00:19</td>\n",
       "    </tr>\n",
       "    <tr>\n",
       "      <td>7</td>\n",
       "      <td>1.772725</td>\n",
       "      <td>16.308144</td>\n",
       "      <td>0.107143</td>\n",
       "      <td>00:19</td>\n",
       "    </tr>\n",
       "    <tr>\n",
       "      <td>8</td>\n",
       "      <td>1.735389</td>\n",
       "      <td>20.553997</td>\n",
       "      <td>0.107143</td>\n",
       "      <td>00:19</td>\n",
       "    </tr>\n",
       "    <tr>\n",
       "      <td>9</td>\n",
       "      <td>1.705934</td>\n",
       "      <td>32.915794</td>\n",
       "      <td>0.107143</td>\n",
       "      <td>00:19</td>\n",
       "    </tr>\n",
       "    <tr>\n",
       "      <td>10</td>\n",
       "      <td>1.682840</td>\n",
       "      <td>33.470840</td>\n",
       "      <td>0.107143</td>\n",
       "      <td>00:19</td>\n",
       "    </tr>\n",
       "    <tr>\n",
       "      <td>11</td>\n",
       "      <td>1.647434</td>\n",
       "      <td>30.479410</td>\n",
       "      <td>0.107143</td>\n",
       "      <td>00:19</td>\n",
       "    </tr>\n",
       "    <tr>\n",
       "      <td>12</td>\n",
       "      <td>1.602294</td>\n",
       "      <td>43.712402</td>\n",
       "      <td>0.107143</td>\n",
       "      <td>00:19</td>\n",
       "    </tr>\n",
       "    <tr>\n",
       "      <td>13</td>\n",
       "      <td>1.578041</td>\n",
       "      <td>37.897869</td>\n",
       "      <td>0.107143</td>\n",
       "      <td>00:19</td>\n",
       "    </tr>\n",
       "    <tr>\n",
       "      <td>14</td>\n",
       "      <td>1.541471</td>\n",
       "      <td>48.811356</td>\n",
       "      <td>0.107143</td>\n",
       "      <td>00:19</td>\n",
       "    </tr>\n",
       "    <tr>\n",
       "      <td>15</td>\n",
       "      <td>1.525081</td>\n",
       "      <td>65.111244</td>\n",
       "      <td>0.107143</td>\n",
       "      <td>00:19</td>\n",
       "    </tr>\n",
       "    <tr>\n",
       "      <td>16</td>\n",
       "      <td>1.493816</td>\n",
       "      <td>63.490269</td>\n",
       "      <td>0.107143</td>\n",
       "      <td>00:19</td>\n",
       "    </tr>\n",
       "    <tr>\n",
       "      <td>17</td>\n",
       "      <td>1.482933</td>\n",
       "      <td>44.653633</td>\n",
       "      <td>0.142857</td>\n",
       "      <td>00:19</td>\n",
       "    </tr>\n",
       "    <tr>\n",
       "      <td>18</td>\n",
       "      <td>1.439994</td>\n",
       "      <td>84.287491</td>\n",
       "      <td>0.154762</td>\n",
       "      <td>00:19</td>\n",
       "    </tr>\n",
       "    <tr>\n",
       "      <td>19</td>\n",
       "      <td>1.428070</td>\n",
       "      <td>66.318924</td>\n",
       "      <td>0.154762</td>\n",
       "      <td>00:19</td>\n",
       "    </tr>\n",
       "    <tr>\n",
       "      <td>20</td>\n",
       "      <td>1.390986</td>\n",
       "      <td>102.283020</td>\n",
       "      <td>0.154762</td>\n",
       "      <td>00:19</td>\n",
       "    </tr>\n",
       "    <tr>\n",
       "      <td>21</td>\n",
       "      <td>1.373613</td>\n",
       "      <td>95.118950</td>\n",
       "      <td>0.154762</td>\n",
       "      <td>00:19</td>\n",
       "    </tr>\n",
       "    <tr>\n",
       "      <td>22</td>\n",
       "      <td>1.348198</td>\n",
       "      <td>104.680374</td>\n",
       "      <td>0.154762</td>\n",
       "      <td>00:19</td>\n",
       "    </tr>\n",
       "    <tr>\n",
       "      <td>23</td>\n",
       "      <td>1.331849</td>\n",
       "      <td>103.304871</td>\n",
       "      <td>0.154762</td>\n",
       "      <td>00:19</td>\n",
       "    </tr>\n",
       "    <tr>\n",
       "      <td>24</td>\n",
       "      <td>1.325471</td>\n",
       "      <td>116.002625</td>\n",
       "      <td>0.154762</td>\n",
       "      <td>00:19</td>\n",
       "    </tr>\n",
       "    <tr>\n",
       "      <td>25</td>\n",
       "      <td>1.294373</td>\n",
       "      <td>116.939369</td>\n",
       "      <td>0.154762</td>\n",
       "      <td>00:18</td>\n",
       "    </tr>\n",
       "    <tr>\n",
       "      <td>26</td>\n",
       "      <td>1.297309</td>\n",
       "      <td>189.854858</td>\n",
       "      <td>0.154762</td>\n",
       "      <td>00:20</td>\n",
       "    </tr>\n",
       "    <tr>\n",
       "      <td>27</td>\n",
       "      <td>1.297724</td>\n",
       "      <td>146.232651</td>\n",
       "      <td>0.107143</td>\n",
       "      <td>00:19</td>\n",
       "    </tr>\n",
       "    <tr>\n",
       "      <td>28</td>\n",
       "      <td>1.281088</td>\n",
       "      <td>149.518387</td>\n",
       "      <td>0.154762</td>\n",
       "      <td>00:19</td>\n",
       "    </tr>\n",
       "    <tr>\n",
       "      <td>29</td>\n",
       "      <td>1.262397</td>\n",
       "      <td>123.188896</td>\n",
       "      <td>0.154762</td>\n",
       "      <td>00:18</td>\n",
       "    </tr>\n",
       "    <tr>\n",
       "      <td>30</td>\n",
       "      <td>1.237214</td>\n",
       "      <td>83.825783</td>\n",
       "      <td>0.047619</td>\n",
       "      <td>00:19</td>\n",
       "    </tr>\n",
       "    <tr>\n",
       "      <td>31</td>\n",
       "      <td>1.198812</td>\n",
       "      <td>133.071854</td>\n",
       "      <td>0.047619</td>\n",
       "      <td>00:19</td>\n",
       "    </tr>\n",
       "    <tr>\n",
       "      <td>32</td>\n",
       "      <td>1.183644</td>\n",
       "      <td>201.705795</td>\n",
       "      <td>0.154762</td>\n",
       "      <td>00:18</td>\n",
       "    </tr>\n",
       "    <tr>\n",
       "      <td>33</td>\n",
       "      <td>1.198469</td>\n",
       "      <td>137.795685</td>\n",
       "      <td>0.154762</td>\n",
       "      <td>00:19</td>\n",
       "    </tr>\n",
       "    <tr>\n",
       "      <td>34</td>\n",
       "      <td>1.164734</td>\n",
       "      <td>143.101624</td>\n",
       "      <td>0.154762</td>\n",
       "      <td>00:19</td>\n",
       "    </tr>\n",
       "    <tr>\n",
       "      <td>35</td>\n",
       "      <td>1.168057</td>\n",
       "      <td>128.341660</td>\n",
       "      <td>0.154762</td>\n",
       "      <td>00:19</td>\n",
       "    </tr>\n",
       "    <tr>\n",
       "      <td>36</td>\n",
       "      <td>1.153476</td>\n",
       "      <td>171.941269</td>\n",
       "      <td>0.154762</td>\n",
       "      <td>00:19</td>\n",
       "    </tr>\n",
       "    <tr>\n",
       "      <td>37</td>\n",
       "      <td>1.158281</td>\n",
       "      <td>137.289398</td>\n",
       "      <td>0.107143</td>\n",
       "      <td>00:19</td>\n",
       "    </tr>\n",
       "    <tr>\n",
       "      <td>38</td>\n",
       "      <td>1.151605</td>\n",
       "      <td>124.585777</td>\n",
       "      <td>0.154762</td>\n",
       "      <td>00:19</td>\n",
       "    </tr>\n",
       "    <tr>\n",
       "      <td>39</td>\n",
       "      <td>1.137265</td>\n",
       "      <td>94.783157</td>\n",
       "      <td>0.154762</td>\n",
       "      <td>00:23</td>\n",
       "    </tr>\n",
       "    <tr>\n",
       "      <td>40</td>\n",
       "      <td>1.136050</td>\n",
       "      <td>204.039291</td>\n",
       "      <td>0.154762</td>\n",
       "      <td>00:21</td>\n",
       "    </tr>\n",
       "    <tr>\n",
       "      <td>41</td>\n",
       "      <td>1.136087</td>\n",
       "      <td>85.293541</td>\n",
       "      <td>0.154762</td>\n",
       "      <td>00:19</td>\n",
       "    </tr>\n",
       "    <tr>\n",
       "      <td>42</td>\n",
       "      <td>1.138395</td>\n",
       "      <td>94.278015</td>\n",
       "      <td>0.047619</td>\n",
       "      <td>00:19</td>\n",
       "    </tr>\n",
       "    <tr>\n",
       "      <td>43</td>\n",
       "      <td>1.092235</td>\n",
       "      <td>187.986084</td>\n",
       "      <td>0.154762</td>\n",
       "      <td>00:19</td>\n",
       "    </tr>\n",
       "    <tr>\n",
       "      <td>44</td>\n",
       "      <td>1.085730</td>\n",
       "      <td>136.732605</td>\n",
       "      <td>0.047619</td>\n",
       "      <td>00:19</td>\n",
       "    </tr>\n",
       "    <tr>\n",
       "      <td>45</td>\n",
       "      <td>1.052613</td>\n",
       "      <td>180.800568</td>\n",
       "      <td>0.154762</td>\n",
       "      <td>00:19</td>\n",
       "    </tr>\n",
       "    <tr>\n",
       "      <td>46</td>\n",
       "      <td>1.073340</td>\n",
       "      <td>102.819313</td>\n",
       "      <td>0.154762</td>\n",
       "      <td>00:19</td>\n",
       "    </tr>\n",
       "    <tr>\n",
       "      <td>47</td>\n",
       "      <td>1.059171</td>\n",
       "      <td>186.356979</td>\n",
       "      <td>0.154762</td>\n",
       "      <td>00:19</td>\n",
       "    </tr>\n",
       "    <tr>\n",
       "      <td>48</td>\n",
       "      <td>1.054703</td>\n",
       "      <td>101.515518</td>\n",
       "      <td>0.154762</td>\n",
       "      <td>00:19</td>\n",
       "    </tr>\n",
       "    <tr>\n",
       "      <td>49</td>\n",
       "      <td>1.091483</td>\n",
       "      <td>139.150116</td>\n",
       "      <td>0.107143</td>\n",
       "      <td>00:23</td>\n",
       "    </tr>\n",
       "    <tr>\n",
       "      <td>50</td>\n",
       "      <td>1.046170</td>\n",
       "      <td>149.510193</td>\n",
       "      <td>0.154762</td>\n",
       "      <td>00:19</td>\n",
       "    </tr>\n",
       "    <tr>\n",
       "      <td>51</td>\n",
       "      <td>1.052774</td>\n",
       "      <td>82.927620</td>\n",
       "      <td>0.047619</td>\n",
       "      <td>00:20</td>\n",
       "    </tr>\n",
       "    <tr>\n",
       "      <td>52</td>\n",
       "      <td>1.029196</td>\n",
       "      <td>25.395973</td>\n",
       "      <td>0.154762</td>\n",
       "      <td>00:19</td>\n",
       "    </tr>\n",
       "  </tbody>\n",
       "</table><p>\n",
       "\n",
       "    <div>\n",
       "      <progress value='21' class='' max='39' style='width:300px; height:20px; vertical-align: middle;'></progress>\n",
       "      53.85% [21/39 00:09&lt;00:08 1.0013]\n",
       "    </div>\n",
       "    "
      ],
      "text/plain": [
       "<IPython.core.display.HTML object>"
      ]
     },
     "metadata": {},
     "output_type": "display_data"
    },
    {
     "data": {
      "image/png": "[encoded data removed]",
      "text/plain": [
       "<Figure size 600x400 with 1 Axes>"
      ]
     },
     "metadata": {},
     "output_type": "display_data"
    }
   ],
   "source": [
    "# Train and evaluate models in a loop\n",
    "for model_dict in models:\n",
    "    model_name = model_dict['name']\n",
    "    model_class = model_dict['model']\n",
    "    model_params = model_dict['params']\n",
    "\n",
    "    logger.info(f'Training {model_name}...')\n",
    "    for params in model_params:\n",
    "        folder_to_save = folder_to_save_base + '/' + model_name\n",
    "        logger.info(f'With parameters: {params}')\n",
    "        #TODO: PROVIDED HERE MODEL HAS LESS ARGUMENTS THAN REQUIRES GO TO MODEL_MULTIPLE\n",
    "        if model_class == TST:\n",
    "            model = model_class(dls.vars, dls.c, dls.len, **params)\n",
    "        elif model_class == LSTM_FCN:\n",
    "            model = model_class(dls.vars, dls.c, seq_len=X_large_zarr.shape[-1], **params)\n",
    "        else:\n",
    "            model = model_class(dls.vars, dls.c, **params)\n",
    "        learn = Learner(dls, model=model, metrics=accuracy, cbs=ShowGraph())\n",
    "        logger.info(\"Save learner as stage0\")\n",
    "        params_string = '/'.join(f'{v}' for k, v in params.items())\n",
    "        folder_to_save += '/' + params_string\n",
    "        logger.info(f'Folder to save: {folder_to_save}')\n",
    "        learn.save('stage0')\n",
    "        learn.lr_find()\n",
    "        try:\n",
    "            for stage in range(1,4):\n",
    "                fit_cycle(stage, learn)\n",
    "                interp = ClassificationInterpretation.from_learner(learn)\n",
    "                interp.plot_confusion_matrix()\n",
    "                plt.show()\n",
    "                learn.save_all(path=folder_to_save, dls_fname='dls', model_fname='model', learner_fname='learner')\n",
    "                logger.info(\"Get test preds:\")\n",
    "                test_probas, test_targets, test_preds = learn.get_preds(dl=test_dl, with_decoded=True, save_preds=None, save_targs=None)\n",
    "                logger.info(f'accuracy: {skm.accuracy_score(test_targets, test_preds):10.6f}')\n",
    "                logger.info(f'recall: {skm.recall_score(test_targets, test_preds, average=\"macro\"):10.6f}')\n",
    "                logger.info(f'precision: {skm.precision_score(test_targets, test_preds, average=\"macro\"):10.6f}')\n",
    "                logger.info(f'jaccard: {skm.jaccard_score(test_targets, test_preds, average=\"macro\"):10.6f}')\n",
    "                conf_mat = skm.confusion_matrix(test_targets, test_preds)\n",
    "                sns.heatmap(conf_mat, square=True, annot=True, cmap='Blues', fmt='d', cbar=False)\n",
    "                plt.show()\n",
    "        except:\n",
    "            print(\"Except accured, cannot fit this model\")\n",
    "            pass\n",
    "        "
   ]
  },
  {
   "cell_type": "code",
   "execution_count": null,
   "id": "f6434dd5",
   "metadata": {},
   "outputs": [
    {
     "data": {
      "text/html": [
       "\n",
       "<style>\n",
       "    /* Turns off some styling */\n",
       "    progress {\n",
       "        /* gets rid of default border in Firefox and Opera. */\n",
       "        border: none;\n",
       "        /* Needs to be in here for Safari polyfill so background images work as expected. */\n",
       "        background-size: auto;\n",
       "    }\n",
       "    progress:not([value]), progress:not([value])::-webkit-progress-bar {\n",
       "        background: repeating-linear-gradient(45deg, #7e7e7e, #7e7e7e 10px, #5c5c5c 10px, #5c5c5c 20px);\n",
       "    }\n",
       "    .progress-bar-interrupted, .progress-bar-interrupted::-webkit-progress-bar {\n",
       "        background: #F44336;\n",
       "    }\n",
       "</style>\n"
      ],
      "text/plain": [
       "<IPython.core.display.HTML object>"
      ]
     },
     "metadata": {},
     "output_type": "display_data"
    },
    {
     "data": {
      "text/html": [],
      "text/plain": [
       "<IPython.core.display.HTML object>"
      ]
     },
     "metadata": {},
     "output_type": "display_data"
    },
    {
     "data": {
      "text/html": [
       "\n",
       "<style>\n",
       "    /* Turns off some styling */\n",
       "    progress {\n",
       "        /* gets rid of default border in Firefox and Opera. */\n",
       "        border: none;\n",
       "        /* Needs to be in here for Safari polyfill so background images work as expected. */\n",
       "        background-size: auto;\n",
       "    }\n",
       "    progress:not([value]), progress:not([value])::-webkit-progress-bar {\n",
       "        background: repeating-linear-gradient(45deg, #7e7e7e, #7e7e7e 10px, #5c5c5c 10px, #5c5c5c 20px);\n",
       "    }\n",
       "    .progress-bar-interrupted, .progress-bar-interrupted::-webkit-progress-bar {\n",
       "        background: #F44336;\n",
       "    }\n",
       "</style>\n"
      ],
      "text/plain": [
       "<IPython.core.display.HTML object>"
      ]
     },
     "metadata": {},
     "output_type": "display_data"
    },
    {
     "data": {
      "text/html": [],
      "text/plain": [
       "<IPython.core.display.HTML object>"
      ]
     },
     "metadata": {},
     "output_type": "display_data"
    },
    {
     "data": {
      "image/png": "[encoded data removed]",
      "text/plain": [
       "<Figure size 640x480 with 1 Axes>"
      ]
     },
     "metadata": {},
     "output_type": "display_data"
    }
   ],
   "source": [
    "#sF - Dryft czujnika\n",
    "#sV - Shaft Wear, Zużycie wału\n",
    "#sT - Tooth fault, Uszkodzenie zęba przekładni\n",
    "\n",
    "#faultCode = sF + 2*sV + 4*sT\n",
    "# 0 - brak uszkodzeń\n",
    "# 1 - Dryft czujnika\n",
    "# 2 - Zużycie wału\n",
    "# 3 - Dryft czujnika + Zużycie wału\n",
    "# 4 - Uszkodzenie zęba przekładni\n",
    "# 5 - Uszkodzenie zęba przekładni + Dryft czujnika\n",
    "# 6 - Uszkodzenie zęba przekładni + Zużycie wału\n",
    "# 7 - Uszkodzenie zęba przekładni + Zużycie wału + Dryft czujnika"
   ]
  },
  {
   "cell_type": "code",
   "execution_count": null,
   "id": "96bfbfd8",
   "metadata": {},
   "outputs": [
    {
     "data": {
      "text/plain": [
       "(array([56., 42., 56., 42., 64., 48., 64., 48.]),\n",
       " array([0.   , 0.875, 1.75 , 2.625, 3.5  , 4.375, 5.25 , 6.125, 7.   ]),\n",
       " <BarContainer object of 8 artists>)"
      ]
     },
     "execution_count": 18,
     "metadata": {},
     "output_type": "execute_result"
    },
    {
     "data": {
      "image/png": "[encoded data removed]",
      "text/plain": [
       "<Figure size 640x480 with 1 Axes>"
      ]
     },
     "metadata": {},
     "output_type": "display_data"
    }
   ],
   "source": [
    "plt.hist(Y, 8)"
   ]
  }
 ],
 "metadata": {
  "kernelspec": {
   "display_name": "Python 3 (ipykernel)",
   "language": "python",
   "name": "python3"
  },
  "language_info": {
   "codemirror_mode": {
    "name": "ipython",
    "version": 3
   },
   "file_extension": ".py",
   "mimetype": "text/x-python",
   "name": "python",
   "nbconvert_exporter": "python",
   "pygments_lexer": "ipython3",
   "version": "3.8.10"
  },
  "vscode": {
   "interpreter": {
    "hash": "fcce5395e03e9f47da25bc5648dd2da71aaf182b49972812453d2e2d25be7c20"
   }
  }
 },
 "nbformat": 4,
 "nbformat_minor": 5
}
