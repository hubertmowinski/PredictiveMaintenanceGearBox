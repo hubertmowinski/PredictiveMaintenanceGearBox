{
 "cells": [
  {
   "cell_type": "code",
   "execution_count": 1,
   "id": "86c14979",
   "metadata": {},
   "outputs": [],
   "source": [
    "import matlab.engine\n",
    "import pandas\n",
    "from keras.models import load_model\n",
    "import random\n",
    "import logging\n",
    "\n",
    "logging.basicConfig(level=logging.INFO)"
   ]
  },
  {
   "cell_type": "markdown",
   "id": "9ba13b04",
   "metadata": {},
   "source": [
    "Importowanie wymaganych autorskich bibliotekfunkcji do przetwarzania danych"
   ]
  },
  {
   "cell_type": "code",
   "execution_count": 2,
   "id": "7535cbe4",
   "metadata": {},
   "outputs": [
    {
     "ename": "ModuleNotFoundError",
     "evalue": "No module named 'tsai'",
     "output_type": "error",
     "traceback": [
      "\u001b[0;31m---------------------------------------------------------------------------\u001b[0m",
      "\u001b[0;31mModuleNotFoundError\u001b[0m                       Traceback (most recent call last)",
      "\u001b[0;32m~/Documents/Studia/Praca magisterska/UsingSimulinkToGenerateFaultDataExample_2/read_data_and_prepare_to_training.ipynb\u001b[0m in \u001b[0;36m<module>\u001b[0;34m\u001b[0m\n\u001b[1;32m     11\u001b[0m \u001b[0;32mimport\u001b[0m \u001b[0mpandas\u001b[0m \u001b[0;32mas\u001b[0m \u001b[0mpd\u001b[0m\u001b[0;34m\u001b[0m\u001b[0;34m\u001b[0m\u001b[0m\n\u001b[1;32m     12\u001b[0m \u001b[0;32mimport\u001b[0m \u001b[0mnumpy\u001b[0m \u001b[0;32mas\u001b[0m \u001b[0mnp\u001b[0m\u001b[0;34m\u001b[0m\u001b[0;34m\u001b[0m\u001b[0m\n\u001b[0;32m---> 13\u001b[0;31m \u001b[0;32mfrom\u001b[0m \u001b[0mtsai\u001b[0m\u001b[0;34m.\u001b[0m\u001b[0mall\u001b[0m \u001b[0;32mimport\u001b[0m \u001b[0;34m*\u001b[0m\u001b[0;34m\u001b[0m\u001b[0;34m\u001b[0m\u001b[0m\n\u001b[0m\u001b[1;32m     14\u001b[0m \u001b[0;32mfrom\u001b[0m \u001b[0mtqdm\u001b[0m \u001b[0;32mimport\u001b[0m \u001b[0mtqdm\u001b[0m\u001b[0;34m\u001b[0m\u001b[0;34m\u001b[0m\u001b[0m\n\u001b[1;32m     15\u001b[0m \u001b[0;32mimport\u001b[0m \u001b[0mpickle\u001b[0m\u001b[0;34m\u001b[0m\u001b[0;34m\u001b[0m\u001b[0m\n",
      "\u001b[0;31mModuleNotFoundError\u001b[0m: No module named 'tsai'"
     ]
    },
    {
     "ename": "ModuleNotFoundError",
     "evalue": "No module named 'tsai'",
     "output_type": "error",
     "traceback": [
      "\u001b[0;31m---------------------------------------------------------------------------\u001b[0m",
      "\u001b[0;31mModuleNotFoundError\u001b[0m                       Traceback (most recent call last)",
      "\u001b[0;32m<ipython-input-2-7806367e5444>\u001b[0m in \u001b[0;36m<module>\u001b[0;34m\u001b[0m\n\u001b[0;32m----> 1\u001b[0;31m \u001b[0mget_ipython\u001b[0m\u001b[0;34m(\u001b[0m\u001b[0;34m)\u001b[0m\u001b[0;34m.\u001b[0m\u001b[0mrun_line_magic\u001b[0m\u001b[0;34m(\u001b[0m\u001b[0;34m'run'\u001b[0m\u001b[0;34m,\u001b[0m \u001b[0;34m'read_data_and_prepare_to_training.ipynb'\u001b[0m\u001b[0;34m)\u001b[0m\u001b[0;34m\u001b[0m\u001b[0;34m\u001b[0m\u001b[0m\n\u001b[0m\u001b[1;32m      2\u001b[0m \u001b[0mget_ipython\u001b[0m\u001b[0;34m(\u001b[0m\u001b[0;34m)\u001b[0m\u001b[0;34m.\u001b[0m\u001b[0mrun_line_magic\u001b[0m\u001b[0;34m(\u001b[0m\u001b[0;34m'run'\u001b[0m\u001b[0;34m,\u001b[0m \u001b[0;34m'load_models.ipynb'\u001b[0m\u001b[0;34m)\u001b[0m\u001b[0;34m\u001b[0m\u001b[0;34m\u001b[0m\u001b[0m\n",
      "\u001b[0;32m~/miniconda3/lib/python3.8/site-packages/IPython/core/interactiveshell.py\u001b[0m in \u001b[0;36mrun_line_magic\u001b[0;34m(self, magic_name, line, _stack_depth)\u001b[0m\n\u001b[1;32m   2342\u001b[0m                 \u001b[0mkwargs\u001b[0m\u001b[0;34m[\u001b[0m\u001b[0;34m'local_ns'\u001b[0m\u001b[0;34m]\u001b[0m \u001b[0;34m=\u001b[0m \u001b[0mself\u001b[0m\u001b[0;34m.\u001b[0m\u001b[0mget_local_scope\u001b[0m\u001b[0;34m(\u001b[0m\u001b[0mstack_depth\u001b[0m\u001b[0;34m)\u001b[0m\u001b[0;34m\u001b[0m\u001b[0;34m\u001b[0m\u001b[0m\n\u001b[1;32m   2343\u001b[0m             \u001b[0;32mwith\u001b[0m \u001b[0mself\u001b[0m\u001b[0;34m.\u001b[0m\u001b[0mbuiltin_trap\u001b[0m\u001b[0;34m:\u001b[0m\u001b[0;34m\u001b[0m\u001b[0;34m\u001b[0m\u001b[0m\n\u001b[0;32m-> 2344\u001b[0;31m                 \u001b[0mresult\u001b[0m \u001b[0;34m=\u001b[0m \u001b[0mfn\u001b[0m\u001b[0;34m(\u001b[0m\u001b[0;34m*\u001b[0m\u001b[0margs\u001b[0m\u001b[0;34m,\u001b[0m \u001b[0;34m**\u001b[0m\u001b[0mkwargs\u001b[0m\u001b[0;34m)\u001b[0m\u001b[0;34m\u001b[0m\u001b[0;34m\u001b[0m\u001b[0m\n\u001b[0m\u001b[1;32m   2345\u001b[0m             \u001b[0;32mreturn\u001b[0m \u001b[0mresult\u001b[0m\u001b[0;34m\u001b[0m\u001b[0;34m\u001b[0m\u001b[0m\n\u001b[1;32m   2346\u001b[0m \u001b[0;34m\u001b[0m\u001b[0m\n",
      "\u001b[0;32m~/miniconda3/lib/python3.8/site-packages/decorator.py\u001b[0m in \u001b[0;36mfun\u001b[0;34m(*args, **kw)\u001b[0m\n\u001b[1;32m    229\u001b[0m             \u001b[0;32mif\u001b[0m \u001b[0;32mnot\u001b[0m \u001b[0mkwsyntax\u001b[0m\u001b[0;34m:\u001b[0m\u001b[0;34m\u001b[0m\u001b[0;34m\u001b[0m\u001b[0m\n\u001b[1;32m    230\u001b[0m                 \u001b[0margs\u001b[0m\u001b[0;34m,\u001b[0m \u001b[0mkw\u001b[0m \u001b[0;34m=\u001b[0m \u001b[0mfix\u001b[0m\u001b[0;34m(\u001b[0m\u001b[0margs\u001b[0m\u001b[0;34m,\u001b[0m \u001b[0mkw\u001b[0m\u001b[0;34m,\u001b[0m \u001b[0msig\u001b[0m\u001b[0;34m)\u001b[0m\u001b[0;34m\u001b[0m\u001b[0;34m\u001b[0m\u001b[0m\n\u001b[0;32m--> 231\u001b[0;31m             \u001b[0;32mreturn\u001b[0m \u001b[0mcaller\u001b[0m\u001b[0;34m(\u001b[0m\u001b[0mfunc\u001b[0m\u001b[0;34m,\u001b[0m \u001b[0;34m*\u001b[0m\u001b[0;34m(\u001b[0m\u001b[0mextras\u001b[0m \u001b[0;34m+\u001b[0m \u001b[0margs\u001b[0m\u001b[0;34m)\u001b[0m\u001b[0;34m,\u001b[0m \u001b[0;34m**\u001b[0m\u001b[0mkw\u001b[0m\u001b[0;34m)\u001b[0m\u001b[0;34m\u001b[0m\u001b[0;34m\u001b[0m\u001b[0m\n\u001b[0m\u001b[1;32m    232\u001b[0m     \u001b[0mfun\u001b[0m\u001b[0;34m.\u001b[0m\u001b[0m__name__\u001b[0m \u001b[0;34m=\u001b[0m \u001b[0mfunc\u001b[0m\u001b[0;34m.\u001b[0m\u001b[0m__name__\u001b[0m\u001b[0;34m\u001b[0m\u001b[0;34m\u001b[0m\u001b[0m\n\u001b[1;32m    233\u001b[0m     \u001b[0mfun\u001b[0m\u001b[0;34m.\u001b[0m\u001b[0m__doc__\u001b[0m \u001b[0;34m=\u001b[0m \u001b[0mfunc\u001b[0m\u001b[0;34m.\u001b[0m\u001b[0m__doc__\u001b[0m\u001b[0;34m\u001b[0m\u001b[0;34m\u001b[0m\u001b[0m\n",
      "\u001b[0;32m~/miniconda3/lib/python3.8/site-packages/IPython/core/magic.py\u001b[0m in \u001b[0;36m<lambda>\u001b[0;34m(f, *a, **k)\u001b[0m\n\u001b[1;32m    185\u001b[0m     \u001b[0;31m# but it's overkill for just that one bit of state.\u001b[0m\u001b[0;34m\u001b[0m\u001b[0;34m\u001b[0m\u001b[0;34m\u001b[0m\u001b[0m\n\u001b[1;32m    186\u001b[0m     \u001b[0;32mdef\u001b[0m \u001b[0mmagic_deco\u001b[0m\u001b[0;34m(\u001b[0m\u001b[0marg\u001b[0m\u001b[0;34m)\u001b[0m\u001b[0;34m:\u001b[0m\u001b[0;34m\u001b[0m\u001b[0;34m\u001b[0m\u001b[0m\n\u001b[0;32m--> 187\u001b[0;31m         \u001b[0mcall\u001b[0m \u001b[0;34m=\u001b[0m \u001b[0;32mlambda\u001b[0m \u001b[0mf\u001b[0m\u001b[0;34m,\u001b[0m \u001b[0;34m*\u001b[0m\u001b[0ma\u001b[0m\u001b[0;34m,\u001b[0m \u001b[0;34m**\u001b[0m\u001b[0mk\u001b[0m\u001b[0;34m:\u001b[0m \u001b[0mf\u001b[0m\u001b[0;34m(\u001b[0m\u001b[0;34m*\u001b[0m\u001b[0ma\u001b[0m\u001b[0;34m,\u001b[0m \u001b[0;34m**\u001b[0m\u001b[0mk\u001b[0m\u001b[0;34m)\u001b[0m\u001b[0;34m\u001b[0m\u001b[0;34m\u001b[0m\u001b[0m\n\u001b[0m\u001b[1;32m    188\u001b[0m \u001b[0;34m\u001b[0m\u001b[0m\n\u001b[1;32m    189\u001b[0m         \u001b[0;32mif\u001b[0m \u001b[0mcallable\u001b[0m\u001b[0;34m(\u001b[0m\u001b[0marg\u001b[0m\u001b[0;34m)\u001b[0m\u001b[0;34m:\u001b[0m\u001b[0;34m\u001b[0m\u001b[0;34m\u001b[0m\u001b[0m\n",
      "\u001b[0;32m~/miniconda3/lib/python3.8/site-packages/IPython/core/magics/execution.py\u001b[0m in \u001b[0;36mrun\u001b[0;34m(self, parameter_s, runner, file_finder)\u001b[0m\n\u001b[1;32m    722\u001b[0m             \u001b[0;32mwith\u001b[0m \u001b[0mpreserve_keys\u001b[0m\u001b[0;34m(\u001b[0m\u001b[0mself\u001b[0m\u001b[0;34m.\u001b[0m\u001b[0mshell\u001b[0m\u001b[0;34m.\u001b[0m\u001b[0muser_ns\u001b[0m\u001b[0;34m,\u001b[0m \u001b[0;34m'__file__'\u001b[0m\u001b[0;34m)\u001b[0m\u001b[0;34m:\u001b[0m\u001b[0;34m\u001b[0m\u001b[0;34m\u001b[0m\u001b[0m\n\u001b[1;32m    723\u001b[0m                 \u001b[0mself\u001b[0m\u001b[0;34m.\u001b[0m\u001b[0mshell\u001b[0m\u001b[0;34m.\u001b[0m\u001b[0muser_ns\u001b[0m\u001b[0;34m[\u001b[0m\u001b[0;34m'__file__'\u001b[0m\u001b[0;34m]\u001b[0m \u001b[0;34m=\u001b[0m \u001b[0mfilename\u001b[0m\u001b[0;34m\u001b[0m\u001b[0;34m\u001b[0m\u001b[0m\n\u001b[0;32m--> 724\u001b[0;31m                 \u001b[0mself\u001b[0m\u001b[0;34m.\u001b[0m\u001b[0mshell\u001b[0m\u001b[0;34m.\u001b[0m\u001b[0msafe_execfile_ipy\u001b[0m\u001b[0;34m(\u001b[0m\u001b[0mfilename\u001b[0m\u001b[0;34m,\u001b[0m \u001b[0mraise_exceptions\u001b[0m\u001b[0;34m=\u001b[0m\u001b[0;32mTrue\u001b[0m\u001b[0;34m)\u001b[0m\u001b[0;34m\u001b[0m\u001b[0;34m\u001b[0m\u001b[0m\n\u001b[0m\u001b[1;32m    725\u001b[0m             \u001b[0;32mreturn\u001b[0m\u001b[0;34m\u001b[0m\u001b[0;34m\u001b[0m\u001b[0m\n\u001b[1;32m    726\u001b[0m \u001b[0;34m\u001b[0m\u001b[0m\n",
      "\u001b[0;32m~/miniconda3/lib/python3.8/site-packages/IPython/core/interactiveshell.py\u001b[0m in \u001b[0;36msafe_execfile_ipy\u001b[0;34m(self, fname, shell_futures, raise_exceptions)\u001b[0m\n\u001b[1;32m   2829\u001b[0m                     \u001b[0mresult\u001b[0m \u001b[0;34m=\u001b[0m \u001b[0mself\u001b[0m\u001b[0;34m.\u001b[0m\u001b[0mrun_cell\u001b[0m\u001b[0;34m(\u001b[0m\u001b[0mcell\u001b[0m\u001b[0;34m,\u001b[0m \u001b[0msilent\u001b[0m\u001b[0;34m=\u001b[0m\u001b[0;32mTrue\u001b[0m\u001b[0;34m,\u001b[0m \u001b[0mshell_futures\u001b[0m\u001b[0;34m=\u001b[0m\u001b[0mshell_futures\u001b[0m\u001b[0;34m)\u001b[0m\u001b[0;34m\u001b[0m\u001b[0;34m\u001b[0m\u001b[0m\n\u001b[1;32m   2830\u001b[0m                     \u001b[0;32mif\u001b[0m \u001b[0mraise_exceptions\u001b[0m\u001b[0;34m:\u001b[0m\u001b[0;34m\u001b[0m\u001b[0;34m\u001b[0m\u001b[0m\n\u001b[0;32m-> 2831\u001b[0;31m                         \u001b[0mresult\u001b[0m\u001b[0;34m.\u001b[0m\u001b[0mraise_error\u001b[0m\u001b[0;34m(\u001b[0m\u001b[0;34m)\u001b[0m\u001b[0;34m\u001b[0m\u001b[0;34m\u001b[0m\u001b[0m\n\u001b[0m\u001b[1;32m   2832\u001b[0m                     \u001b[0;32melif\u001b[0m \u001b[0;32mnot\u001b[0m \u001b[0mresult\u001b[0m\u001b[0;34m.\u001b[0m\u001b[0msuccess\u001b[0m\u001b[0;34m:\u001b[0m\u001b[0;34m\u001b[0m\u001b[0;34m\u001b[0m\u001b[0m\n\u001b[1;32m   2833\u001b[0m                         \u001b[0;32mbreak\u001b[0m\u001b[0;34m\u001b[0m\u001b[0;34m\u001b[0m\u001b[0m\n",
      "\u001b[0;32m~/miniconda3/lib/python3.8/site-packages/IPython/core/interactiveshell.py\u001b[0m in \u001b[0;36mraise_error\u001b[0;34m(self)\u001b[0m\n\u001b[1;32m    329\u001b[0m             \u001b[0;32mraise\u001b[0m \u001b[0mself\u001b[0m\u001b[0;34m.\u001b[0m\u001b[0merror_before_exec\u001b[0m\u001b[0;34m\u001b[0m\u001b[0;34m\u001b[0m\u001b[0m\n\u001b[1;32m    330\u001b[0m         \u001b[0;32mif\u001b[0m \u001b[0mself\u001b[0m\u001b[0;34m.\u001b[0m\u001b[0merror_in_exec\u001b[0m \u001b[0;32mis\u001b[0m \u001b[0;32mnot\u001b[0m \u001b[0;32mNone\u001b[0m\u001b[0;34m:\u001b[0m\u001b[0;34m\u001b[0m\u001b[0;34m\u001b[0m\u001b[0m\n\u001b[0;32m--> 331\u001b[0;31m             \u001b[0;32mraise\u001b[0m \u001b[0mself\u001b[0m\u001b[0;34m.\u001b[0m\u001b[0merror_in_exec\u001b[0m\u001b[0;34m\u001b[0m\u001b[0;34m\u001b[0m\u001b[0m\n\u001b[0m\u001b[1;32m    332\u001b[0m \u001b[0;34m\u001b[0m\u001b[0m\n\u001b[1;32m    333\u001b[0m     \u001b[0;32mdef\u001b[0m \u001b[0m__repr__\u001b[0m\u001b[0;34m(\u001b[0m\u001b[0mself\u001b[0m\u001b[0;34m)\u001b[0m\u001b[0;34m:\u001b[0m\u001b[0;34m\u001b[0m\u001b[0;34m\u001b[0m\u001b[0m\n",
      "    \u001b[0;31m[... skipping hidden 1 frame]\u001b[0m\n",
      "\u001b[0;32m<ipython-input-2-7f703047a21b>\u001b[0m in \u001b[0;36m<module>\u001b[0;34m\u001b[0m\n\u001b[1;32m     11\u001b[0m \u001b[0;32mimport\u001b[0m \u001b[0mpandas\u001b[0m \u001b[0;32mas\u001b[0m \u001b[0mpd\u001b[0m\u001b[0;34m\u001b[0m\u001b[0;34m\u001b[0m\u001b[0m\n\u001b[1;32m     12\u001b[0m \u001b[0;32mimport\u001b[0m \u001b[0mnumpy\u001b[0m \u001b[0;32mas\u001b[0m \u001b[0mnp\u001b[0m\u001b[0;34m\u001b[0m\u001b[0;34m\u001b[0m\u001b[0m\n\u001b[0;32m---> 13\u001b[0;31m \u001b[0;32mfrom\u001b[0m \u001b[0mtsai\u001b[0m\u001b[0;34m.\u001b[0m\u001b[0mall\u001b[0m \u001b[0;32mimport\u001b[0m \u001b[0;34m*\u001b[0m\u001b[0;34m\u001b[0m\u001b[0;34m\u001b[0m\u001b[0m\n\u001b[0m\u001b[1;32m     14\u001b[0m \u001b[0;32mfrom\u001b[0m \u001b[0mtqdm\u001b[0m \u001b[0;32mimport\u001b[0m \u001b[0mtqdm\u001b[0m\u001b[0;34m\u001b[0m\u001b[0;34m\u001b[0m\u001b[0m\n\u001b[1;32m     15\u001b[0m \u001b[0;32mimport\u001b[0m \u001b[0mpickle\u001b[0m\u001b[0;34m\u001b[0m\u001b[0;34m\u001b[0m\u001b[0m\n",
      "\u001b[0;31mModuleNotFoundError\u001b[0m: No module named 'tsai'"
     ]
    }
   ],
   "source": [
    "\n",
    "%run read_data_and_prepare_to_training.ipynb\n",
    "%run load_models.ipynb"
   ]
  },
  {
   "cell_type": "markdown",
   "id": "7cf9bb15",
   "metadata": {},
   "source": [
    "## Parametry uszkodzeń\n",
    "W kolejnej komórce należy wprowadzić sprawdzane parametry uszkodzeń, gdzie:\n",
    "- **SDrift** wyznacza przesunięcie dryftu czujnika <-1 ; 1>\n",
    "- **SGain** jest to parametr wzmocnienia zwarcia zęba przekładni <-2 ; 0>\n",
    "- **ShaftWear** jest to parametr zużycia wału. Może on przyjmować 2 wartości 0 oznacza brak uszkodzenia oraz -1 oznaczający zużycie wału"
   ]
  },
  {
   "cell_type": "code",
   "execution_count": 2,
   "id": "6a23add4",
   "metadata": {},
   "outputs": [],
   "source": [
    "SDrift = -0.8\n",
    "SGain = 0\n",
    "ShaftWear = 0"
   ]
  },
  {
   "cell_type": "code",
   "execution_count": 3,
   "id": "5cf26fbc",
   "metadata": {},
   "outputs": [
    {
     "ename": "SyntaxError",
     "evalue": "invalid syntax (<ipython-input-3-ac4e5865b2f0>, line 5)",
     "output_type": "error",
     "traceback": [
      "\u001b[0;36m  File \u001b[0;32m\"<ipython-input-3-ac4e5865b2f0>\"\u001b[0;36m, line \u001b[0;32m5\u001b[0m\n\u001b[0;31m    if(!correct):\u001b[0m\n\u001b[0m       ^\u001b[0m\n\u001b[0;31mSyntaxError\u001b[0m\u001b[0;31m:\u001b[0m invalid syntax\n"
     ]
    }
   ],
   "source": [
    "eng = matlab.engine.start_matlab()\n",
    "correct = eng.SimulateTransmissionCasing(SDrift,SGain,ShaftWear)\n",
    "eng.exit()\n",
    "\n",
    "if not correct:\n",
    "    logger.error(\"Execution of simulation was incorrect\")\n",
    "    raise SystemExit(\"Simulink error!\")"
   ]
  },
  {
   "cell_type": "markdown",
   "id": "e7ceccd7",
   "metadata": {},
   "source": [
    "### Read simulation data from file "
   ]
  },
  {
   "cell_type": "code",
   "execution_count": 4,
   "id": "0a14c8e5",
   "metadata": {},
   "outputs": [],
   "source": [
    "simulation_data = pandas.read_parquet(\"SimulationData.parquet\").to_pandas()\n",
    "simulation_data"
   ]
  },
  {
   "cell_type": "markdown",
   "id": "49e19252",
   "metadata": {},
   "source": [
    "### Simulation parameters required for converting data"
   ]
  },
  {
   "cell_type": "code",
   "execution_count": null,
   "id": "571cec50",
   "metadata": {},
   "outputs": [],
   "source": [
    "number_of_columns_in_one_simulation = 11\n",
    "time_sample_for_data = 0.01\n",
    "resolution = 2"
   ]
  },
  {
   "cell_type": "markdown",
   "id": "a4f662a3",
   "metadata": {},
   "source": [
    "### Convert output data from simulation to proper model input"
   ]
  },
  {
   "cell_type": "code",
   "execution_count": 6,
   "id": "8767f842",
   "metadata": {},
   "outputs": [],
   "source": [
    "logger.info(\"Converting time columns from data time to float\")\n",
    "train = simulation_data_time_to_float(simulation_data, number_of_columns_in_one_simulation)\n",
    "logger.info(\"Converting tacho columns from impulses to angular velocity\")\n",
    "train = add_angular_velocity_calculated_from_pulses(train, number_of_columns_in_one_simulation, time_sample_for_data,\n",
    "                                                    resolution)\n",
    "logger.info(\"Reshape and prepare data to train\")\n",
    "X,_ = prepare_data_to_train(train, number_of_columns_in_one_simulation)"
   ]
  },
  {
   "cell_type": "code",
   "execution_count": 7,
   "id": "491d46b4",
   "metadata": {},
   "outputs": [
    {
     "data": {
      "text/html": [
       "<div>\n",
       "<style scoped>\n",
       "    .dataframe tbody tr th:only-of-type {\n",
       "        vertical-align: middle;\n",
       "    }\n",
       "\n",
       "    .dataframe tbody tr th {\n",
       "        vertical-align: top;\n",
       "    }\n",
       "\n",
       "    .dataframe thead th {\n",
       "        text-align: right;\n",
       "    }\n",
       "</style>\n",
       "<table border=\"1\" class=\"dataframe\">\n",
       "  <thead>\n",
       "    <tr style=\"text-align: right;\">\n",
       "      <th></th>\n",
       "      <th>vibration</th>\n",
       "      <th>tacho1</th>\n",
       "      <th>tacho2</th>\n",
       "    </tr>\n",
       "  </thead>\n",
       "  <tbody>\n",
       "    <tr>\n",
       "      <th>0</th>\n",
       "      <td>-0.632228</td>\n",
       "      <td>0.0</td>\n",
       "      <td>0.0</td>\n",
       "    </tr>\n",
       "    <tr>\n",
       "      <th>1</th>\n",
       "      <td>-1.351946</td>\n",
       "      <td>0.0</td>\n",
       "      <td>0.0</td>\n",
       "    </tr>\n",
       "    <tr>\n",
       "      <th>2</th>\n",
       "      <td>-1.426686</td>\n",
       "      <td>0.0</td>\n",
       "      <td>0.0</td>\n",
       "    </tr>\n",
       "    <tr>\n",
       "      <th>3</th>\n",
       "      <td>-0.618158</td>\n",
       "      <td>0.0</td>\n",
       "      <td>0.0</td>\n",
       "    </tr>\n",
       "    <tr>\n",
       "      <th>4</th>\n",
       "      <td>0.488226</td>\n",
       "      <td>0.0</td>\n",
       "      <td>0.0</td>\n",
       "    </tr>\n",
       "    <tr>\n",
       "      <th>...</th>\n",
       "      <td>...</td>\n",
       "      <td>...</td>\n",
       "      <td>...</td>\n",
       "    </tr>\n",
       "    <tr>\n",
       "      <th>295</th>\n",
       "      <td>0.482954</td>\n",
       "      <td>0.0</td>\n",
       "      <td>0.0</td>\n",
       "    </tr>\n",
       "    <tr>\n",
       "      <th>296</th>\n",
       "      <td>-0.624341</td>\n",
       "      <td>0.0</td>\n",
       "      <td>0.0</td>\n",
       "    </tr>\n",
       "    <tr>\n",
       "      <th>297</th>\n",
       "      <td>-1.428926</td>\n",
       "      <td>0.0</td>\n",
       "      <td>0.0</td>\n",
       "    </tr>\n",
       "    <tr>\n",
       "      <th>298</th>\n",
       "      <td>-1.349077</td>\n",
       "      <td>0.0</td>\n",
       "      <td>0.0</td>\n",
       "    </tr>\n",
       "    <tr>\n",
       "      <th>299</th>\n",
       "      <td>-0.627833</td>\n",
       "      <td>0.0</td>\n",
       "      <td>0.0</td>\n",
       "    </tr>\n",
       "  </tbody>\n",
       "</table>\n",
       "<p>300 rows × 3 columns</p>\n",
       "</div>"
      ],
      "text/plain": [
       "     vibration  tacho1  tacho2\n",
       "0    -0.632228     0.0     0.0\n",
       "1    -1.351946     0.0     0.0\n",
       "2    -1.426686     0.0     0.0\n",
       "3    -0.618158     0.0     0.0\n",
       "4     0.488226     0.0     0.0\n",
       "..         ...     ...     ...\n",
       "295   0.482954     0.0     0.0\n",
       "296  -0.624341     0.0     0.0\n",
       "297  -1.428926     0.0     0.0\n",
       "298  -1.349077     0.0     0.0\n",
       "299  -0.627833     0.0     0.0\n",
       "\n",
       "[300 rows x 3 columns]"
      ]
     },
     "execution_count": 7,
     "metadata": {},
     "output_type": "execute_result"
    }
   ],
   "source": [
    "simulation_data = pandas.read_parquet(\"SimulationData.parquet\").to_pandas()\n",
    "simulation_data"
   ]
  },
  {
   "cell_type": "code",
   "execution_count": 8,
   "id": "b39e68ad",
   "metadata": {},
   "outputs": [],
   "source": [
    "model = load_model('PredictFaultData')"
   ]
  },
  {
   "cell_type": "code",
   "execution_count": 9,
   "id": "672e5979",
   "metadata": {},
   "outputs": [],
   "source": [
    "X_simulation = simulation.values"
   ]
  },
  {
   "cell_type": "code",
   "execution_count": 10,
   "id": "c7f73711",
   "metadata": {},
   "outputs": [],
   "source": [
    "n_signals, n_steps, n_length = 3, 20, 15\n",
    "X_simulation = X_simulation.reshape((1, n_steps, n_length, n_signals))"
   ]
  },
  {
   "cell_type": "code",
   "execution_count": 11,
   "id": "ce9469fc",
   "metadata": {},
   "outputs": [
    {
     "data": {
      "text/plain": [
       "array([[[[-0.63222814,  0.        ,  0.        ],\n",
       "         [-1.35194628,  0.        ,  0.        ],\n",
       "         [-1.42668598,  0.        ,  0.        ],\n",
       "         [-0.61815778,  0.        ,  0.        ],\n",
       "         [ 0.48822567,  0.        ,  0.        ],\n",
       "         [ 1.01488421,  0.        ,  0.        ],\n",
       "         [ 0.59277408,  0.        ,  0.        ],\n",
       "         [-0.3041332 ,  0.        ,  0.        ],\n",
       "         [-0.79771761,  0.        ,  0.        ],\n",
       "         [-0.41460483,  0.        ,  0.        ],\n",
       "         [ 0.47814046,  0.        ,  0.        ],\n",
       "         [ 1.01083886,  0.        ,  0.        ],\n",
       "         [ 0.61215576,  0.        ,  0.        ],\n",
       "         [-0.46273747,  0.        ,  0.        ],\n",
       "         [-1.36216561,  0.        ,  0.        ]],\n",
       "\n",
       "        [[-1.4149876 ,  0.        ,  0.        ],\n",
       "         [-0.74100656,  0.        ,  0.        ],\n",
       "         [-0.13420017,  0.        ,  0.        ],\n",
       "         [-0.32631536,  0.        ,  0.        ],\n",
       "         [-1.30765478,  0.        ,  0.        ],\n",
       "         [-2.3293406 ,  0.        ,  0.        ],\n",
       "         [-2.58524146,  0.        ,  0.        ],\n",
       "         [-1.94730437,  0.        ,  0.        ],\n",
       "         [-1.07893591,  0.        ,  0.        ],\n",
       "         [-0.82243624,  0.        ,  0.        ],\n",
       "         [-1.42338615,  0.        ,  0.        ],\n",
       "         [-2.30463081,  0.        ,  0.        ],\n",
       "         [-2.59752239,  0.        ,  0.        ],\n",
       "         [-1.94231764,  0.        ,  0.        ],\n",
       "         [-0.82229348,  0.        ,  0.        ]],\n",
       "\n",
       "        [[-0.12447722,  0.        ,  0.        ],\n",
       "         [-0.33036975,  0.        ,  0.        ],\n",
       "         [-1.07993751,  0.        ,  0.        ],\n",
       "         [-1.50919011,  0.        ,  0.        ],\n",
       "         [-1.05093269,  0.        ,  0.        ],\n",
       "         [ 0.03725467,  0.        ,  0.        ],\n",
       "         [ 0.90315123,  0.        ,  0.        ],\n",
       "         [ 0.87697344,  0.        ,  0.        ],\n",
       "         [ 0.08171153,  0.        ,  0.        ],\n",
       "         [-0.68380567,  0.        ,  0.        ],\n",
       "         [-0.68152966,  0.        ,  0.        ],\n",
       "         [ 0.08636161,  0.        ,  0.        ],\n",
       "         [ 0.87946815,  0.        ,  0.        ],\n",
       "         [ 0.90078115,  0.        ,  0.        ],\n",
       "         [ 0.03163625,  0.        ,  0.        ]],\n",
       "\n",
       "        [[-1.05531983,  0.        ,  0.        ],\n",
       "         [-1.50909151,  0.        ,  0.        ],\n",
       "         [-1.07628291,  0.        ,  0.        ],\n",
       "         [-0.32738556,  0.        ,  0.        ],\n",
       "         [-0.12576904,  0.        ,  0.        ],\n",
       "         [-0.82749917,  0.        ,  0.        ],\n",
       "         [-1.94740701,  0.        ,  0.        ],\n",
       "         [-2.5984698 ,  0.        ,  0.        ],\n",
       "         [-2.30108768,  0.        ,  0.        ],\n",
       "         [-1.41898062,  0.        ,  0.        ],\n",
       "         [-0.82142527,  0.        ,  0.        ],\n",
       "         [-1.08228599,  0.        ,  0.        ],\n",
       "         [-1.95180176,  0.        ,  0.        ],\n",
       "         [-2.58644966,  0.        ,  0.        ],\n",
       "         [-2.32568825,  0.        ,  0.        ]],\n",
       "\n",
       "        [[-1.30189813,  0.        ,  0.        ],\n",
       "         [-0.32303072,  0.        ,  0.        ],\n",
       "         [-0.13560825,  0.        ,  0.        ],\n",
       "         [-0.74496321,  0.        ,  0.        ],\n",
       "         [-1.41698597,  0.        ,  0.        ],\n",
       "         [-1.35951042,  0.        ,  0.        ],\n",
       "         [-0.45705655,  0.        ,  0.        ],\n",
       "         [ 0.61637184,  0.        ,  0.        ],\n",
       "         [ 1.01033117,  0.        ,  0.        ],\n",
       "         [ 0.47385265,  0.        ,  0.        ],\n",
       "         [-0.41840762,  0.        ,  0.        ],\n",
       "         [-0.79737588,  0.        ,  0.        ],\n",
       "         [-0.29996362,  0.        ,  0.        ],\n",
       "         [ 0.59676037,  0.        ,  0.        ],\n",
       "         [ 1.01466397,  0.        ,  0.        ]],\n",
       "\n",
       "        [[ 0.48347423,  0.        ,  0.        ],\n",
       "         [-0.62373307,  0.        ,  0.        ],\n",
       "         [-1.42870792,  0.        ,  0.        ],\n",
       "         [-1.34935845,  0.        ,  0.        ],\n",
       "         [-0.62825955,  0.        ,  0.        ],\n",
       "         [-0.10303485,  0.        ,  0.        ],\n",
       "         [-0.42983653,  0.        ,  0.        ],\n",
       "         [-1.47360746,  0.        ,  0.        ],\n",
       "         [-2.42558118,  0.        ,  0.        ],\n",
       "         [-2.54033187,  0.        ,  0.        ],\n",
       "         [-1.81546823,  0.        ,  0.        ],\n",
       "         [-0.9897261 ,  0.        ,  0.        ],\n",
       "         [-0.86137569,  0.        ,  0.        ],\n",
       "         [-1.55325356,  0.        ,  0.        ],\n",
       "         [-2.399714  ,  0.        ,  0.        ]],\n",
       "\n",
       "        [[-2.55936788,  0.        ,  0.        ],\n",
       "         [-1.79062441,  0.        ,  0.        ],\n",
       "         [-0.67742691,  0.        ,  0.        ],\n",
       "         [-0.09764348,  0.        ,  0.        ],\n",
       "         [-0.42231994,  0.        ,  0.        ],\n",
       "         [-1.18122959,  0.        ,  0.        ],\n",
       "         [-1.50173028,  0.        ,  0.        ],\n",
       "         [-0.91746811,  0.        ,  0.        ],\n",
       "         [ 0.19632494,  0.        ,  0.        ],\n",
       "         [ 0.96113007,  0.        ,  0.        ],\n",
       "         [ 0.7964906 ,  0.        ,  0.        ],\n",
       "         [-0.05157665,  0.        ,  0.        ],\n",
       "         [-0.74037733,  0.        ,  0.        ],\n",
       "         [-0.60727361,  0.        ,  0.        ],\n",
       "         [ 0.22034756,  0.        ,  0.        ]],\n",
       "\n",
       "        [[ 0.94231094,  0.        ,  0.        ],\n",
       "         [ 0.82237832,  0.        ,  0.        ],\n",
       "         [-0.13244669,  0.        ,  0.        ],\n",
       "         [-1.17424279,  0.        ,  0.        ],\n",
       "         [-1.49615259,  0.        ,  0.        ],\n",
       "         [-0.96767491,  0.        ,  0.        ],\n",
       "         [-0.24797662,  0.        ,  0.        ],\n",
       "         [-0.1733841 ,  0.        ,  0.        ],\n",
       "         [-0.98205528,  0.        ,  0.        ],\n",
       "         [-2.08842143,  0.        ,  0.        ],\n",
       "         [-2.61489327,  0.        ,  0.        ],\n",
       "         [-2.19259079,  0.        ,  0.        ],\n",
       "         [-1.29566853,  0.        ,  0.        ],\n",
       "         [-0.80226625,  0.        ,  0.        ],\n",
       "         [-1.18558638,  0.        ,  0.        ]],\n",
       "\n",
       "        [[-2.07835945,  0.        ,  0.        ],\n",
       "         [-2.61086453,  0.        ,  0.        ],\n",
       "         [-2.2119337 ,  0.        ,  0.        ],\n",
       "         [-1.13696117,  0.        ,  0.        ],\n",
       "         [-0.23769298,  0.        ,  0.        ],\n",
       "         [-0.18512057,  0.        ,  0.        ],\n",
       "         [-0.8592076 ,  0.        ,  0.        ],\n",
       "         [-1.46587578,  0.        ,  0.        ],\n",
       "         [-1.2735048 ,  0.        ,  0.        ],\n",
       "         [-0.29203016,  0.        ,  0.        ],\n",
       "         [ 0.72954036,  0.        ,  0.        ],\n",
       "         [ 0.98517437,  0.        ,  0.        ],\n",
       "         [ 0.34705663,  0.        ,  0.        ],\n",
       "         [-0.52124826,  0.        ,  0.        ],\n",
       "         [-0.77750731,  0.        ,  0.        ]],\n",
       "\n",
       "        [[-0.17637034,  0.        ,  0.        ],\n",
       "         [ 0.70482616,  0.        ,  0.        ],\n",
       "         [ 0.99746927,  0.        ,  0.        ],\n",
       "         [ 0.34203573,  0.        ,  0.        ],\n",
       "         [-0.77799428,  0.        ,  0.        ],\n",
       "         [-1.47559359,  0.        ,  0.        ],\n",
       "         [-1.26946458,  0.        ,  0.        ],\n",
       "         [-0.51986033,  0.        ,  0.        ],\n",
       "         [-0.09080512,  0.        ,  0.        ],\n",
       "         [-0.54931086,  0.        ,  0.        ],\n",
       "         [-1.63756581,  0.        ,  0.        ],\n",
       "         [-2.50328187,  0.        ,  0.        ],\n",
       "         [-2.47683459,  0.        ,  0.        ],\n",
       "         [-1.68145384,  0.        ,  0.        ],\n",
       "         [-0.91606879,  0.        ,  0.        ]],\n",
       "\n",
       "        [[-0.91859709,  0.        ,  0.        ],\n",
       "         [-1.68661938,  0.        ,  0.        ],\n",
       "         [-2.47960583,  0.        ,  0.        ],\n",
       "         [-2.50064907,  0.        ,  0.        ],\n",
       "         [-1.63132464,  0.        ,  0.        ],\n",
       "         [-0.54443747,  0.        ,  0.        ],\n",
       "         [-0.09091465,  0.        ,  0.        ],\n",
       "         [-0.52391993,  0.        ,  0.        ],\n",
       "         [-1.27277944,  0.        ,  0.        ],\n",
       "         [-1.47415865,  0.        ,  0.        ],\n",
       "         [-0.77221194,  0.        ,  0.        ],\n",
       "         [ 0.34768876,  0.        ,  0.        ],\n",
       "         [ 0.99852158,  0.        ,  0.        ],\n",
       "         [ 0.70089084,  0.        ,  0.        ],\n",
       "         [-0.18126334,  0.        ,  0.        ]],\n",
       "\n",
       "        [[-0.77863009,  0.        ,  0.        ],\n",
       "         [-0.51752786,  0.        ,  0.        ],\n",
       "         [ 0.35205081,  0.        ,  0.        ],\n",
       "         [ 0.98651591,  0.        ,  0.        ],\n",
       "         [ 0.72548529,  0.        ,  0.        ],\n",
       "         [-0.29842075,  0.        ,  0.        ],\n",
       "         [-1.27715061,  0.        ,  0.        ],\n",
       "         [-1.46431314,  0.        ,  0.        ],\n",
       "         [-0.85481766,  0.        ,  0.        ],\n",
       "         [-0.18290398,  0.        ,  0.        ],\n",
       "         [-0.24063717,  0.        ,  0.        ],\n",
       "         [-1.14325782,  0.        ,  0.        ],\n",
       "         [-2.2166044 ,  0.        ,  0.        ],\n",
       "         [-2.6103024 ,  0.        ,  0.        ],\n",
       "         [-2.07361563,  0.        ,  0.        ]],\n",
       "\n",
       "        [[-1.18138301,  0.        ,  0.        ],\n",
       "         [-0.80264365,  0.        ,  0.        ],\n",
       "         [-1.30026614,  0.        ,  0.        ],\n",
       "         [-2.19697899,  0.        ,  0.        ],\n",
       "         [-2.61465114,  0.        ,  0.        ],\n",
       "         [-2.0832139 ,  0.        ,  0.        ],\n",
       "         [-0.97596314,  0.        ,  0.        ],\n",
       "         [-0.17118292,  0.        ,  0.        ],\n",
       "         [-0.25078206,  0.        ,  0.        ],\n",
       "         [-0.97195384,  0.        ,  0.        ],\n",
       "         [-1.49700713,  0.        ,  0.        ],\n",
       "         [-1.16994861,  0.        ,  0.        ],\n",
       "         [-0.12607461,  0.        ,  0.        ],\n",
       "         [ 0.82574873,  0.        ,  0.        ],\n",
       "         [ 0.94022722,  0.        ,  0.        ]],\n",
       "\n",
       "        [[ 0.21521185,  0.        ,  0.        ],\n",
       "         [-0.61043092,  0.        ,  0.        ],\n",
       "         [-0.73853156,  0.        ,  0.        ],\n",
       "         [-0.0464926 ,  0.        ,  0.        ],\n",
       "         [ 0.79988275,  0.        ,  0.        ],\n",
       "         [ 0.95927456,  0.        ,  0.        ],\n",
       "         [ 0.1903247 ,  0.        ,  0.        ],\n",
       "         [-0.9228408 ,  0.        ,  0.        ],\n",
       "         [-1.50238867,  0.        ,  0.        ],\n",
       "         [-1.17749326,  0.        ,  0.        ],\n",
       "         [-0.41858433,  0.        ,  0.        ],\n",
       "         [-0.09830336,  0.        ,  0.        ],\n",
       "         [-0.68280047,  0.        ,  0.        ],\n",
       "         [-1.79662409,  0.        ,  0.        ],\n",
       "         [-2.56122187,  0.        ,  0.        ]],\n",
       "\n",
       "        [[-2.39632073,  0.        ,  0.        ],\n",
       "         [-1.54816977,  0.        ,  0.        ],\n",
       "         [-0.85953127,  0.        ,  0.        ],\n",
       "         [-0.99288456,  0.        ,  0.        ],\n",
       "         [-1.82060377,  0.        ,  0.        ],\n",
       "         [-2.5424142 ,  0.        ,  0.        ],\n",
       "         [-2.4222094 ,  0.        ,  0.        ],\n",
       "         [-1.46723524,  0.        ,  0.        ],\n",
       "         [-0.42554353,  0.        ,  0.        ],\n",
       "         [-0.10389079,  0.        ,  0.        ],\n",
       "         [-0.6325388 ,  0.        ,  0.        ],\n",
       "         [-1.35216283,  0.        ,  0.        ],\n",
       "         [-1.42650529,  0.        ,  0.        ],\n",
       "         [-0.61764043,  0.        ,  0.        ],\n",
       "         [ 0.48868081,  0.        ,  0.        ]],\n",
       "\n",
       "        [[ 1.01490453,  0.        ,  0.        ],\n",
       "         [ 0.59237139,  0.        ,  0.        ],\n",
       "         [-0.30456057,  0.        ,  0.        ],\n",
       "         [-0.79775183,  0.        ,  0.        ],\n",
       "         [-0.41420341,  0.        ,  0.        ],\n",
       "         [ 0.47859589,  0.        ,  0.        ],\n",
       "         [ 1.01089178,  0.        ,  0.        ],\n",
       "         [ 0.61170003,  0.        ,  0.        ],\n",
       "         [-0.46335292,  0.        ,  0.        ],\n",
       "         [-1.36245322,  0.        ,  0.        ],\n",
       "         [-1.41476818,  0.        ,  0.        ],\n",
       "         [-0.74057337,  0.        ,  0.        ],\n",
       "         [-0.13404693,  0.        ,  0.        ],\n",
       "         [-0.32667783,  0.        ,  0.        ],\n",
       "         [-1.30828881,  0.        ,  0.        ]],\n",
       "\n",
       "        [[-2.32974206,  0.        ,  0.        ],\n",
       "         [-2.58510665,  0.        ,  0.        ],\n",
       "         [-1.94680719,  0.        ,  0.        ],\n",
       "         [-1.0785666 ,  0.        ,  0.        ],\n",
       "         [-0.82254946,  0.        ,  0.        ],\n",
       "         [-1.42387409,  0.        ,  0.        ],\n",
       "         [-2.30502205,  0.        ,  0.        ],\n",
       "         [-2.59741594,  0.        ,  0.        ],\n",
       "         [-1.94175321,  0.        ,  0.        ],\n",
       "         [-0.82171752,  0.        ,  0.        ],\n",
       "         [-0.12433558,  0.        ,  0.        ],\n",
       "         [-0.33070132,  0.        ,  0.        ],\n",
       "         [-1.08034199,  0.        ,  0.        ],\n",
       "         [-1.50919958,  0.        ,  0.        ],\n",
       "         [-1.05044539,  0.        ,  0.        ]],\n",
       "\n",
       "        [[ 0.03787708,  0.        ,  0.        ],\n",
       "         [ 0.90341249,  0.        ,  0.        ],\n",
       "         [ 0.87669563,  0.        ,  0.        ],\n",
       "         [ 0.08119608,  0.        ,  0.        ],\n",
       "         [-0.68405672,  0.        ,  0.        ],\n",
       "         [-0.68127607,  0.        ,  0.        ],\n",
       "         [ 0.08687719,  0.        ,  0.        ],\n",
       "         [ 0.87974346,  0.        ,  0.        ],\n",
       "         [ 0.90051692,  0.        ,  0.        ],\n",
       "         [ 0.03101298,  0.        ,  0.        ],\n",
       "         [-1.05580519,  0.        ,  0.        ],\n",
       "         [-1.50907911,  0.        ,  0.        ],\n",
       "         [-1.0758772 ,  0.        ,  0.        ],\n",
       "         [-0.3270556 ,  0.        ,  0.        ],\n",
       "         [-0.12591375,  0.        ,  0.        ]],\n",
       "\n",
       "        [[-0.82807699,  0.        ,  0.        ],\n",
       "         [-1.94797047,  0.        ,  0.        ],\n",
       "         [-2.59857328,  0.        ,  0.        ],\n",
       "         [-2.30069394,  0.        ,  0.        ],\n",
       "         [-1.41849272,  0.        ,  0.        ],\n",
       "         [-0.82131462,  0.        ,  0.        ],\n",
       "         [-1.08265833,  0.        ,  0.        ],\n",
       "         [-1.95229985,  0.        ,  0.        ],\n",
       "         [-2.58658209,  0.        ,  0.        ],\n",
       "         [-2.32528226,  0.        ,  0.        ],\n",
       "         [-1.30126036,  0.        ,  0.        ],\n",
       "         [-0.32266813,  0.        ,  0.        ],\n",
       "         [-0.13576553,  0.        ,  0.        ],\n",
       "         [-0.74540148,  0.        ,  0.        ],\n",
       "         [-1.41720601,  0.        ,  0.        ]],\n",
       "\n",
       "        [[-1.35921517,  0.        ,  0.        ],\n",
       "         [-0.45642779,  0.        ,  0.        ],\n",
       "         [ 0.61683691,  0.        ,  0.        ],\n",
       "         [ 1.01027354,  0.        ,  0.        ],\n",
       "         [ 0.47337858,  0.        ,  0.        ],\n",
       "         [-0.41882632,  0.        ,  0.        ],\n",
       "         [-0.79733676,  0.        ,  0.        ],\n",
       "         [-0.29950407,  0.        ,  0.        ],\n",
       "         [ 0.59719757,  0.        ,  0.        ],\n",
       "         [ 1.01463824,  0.        ,  0.        ],\n",
       "         [ 0.48295352,  0.        ,  0.        ],\n",
       "         [-0.62434063,  0.        ,  0.        ],\n",
       "         [-1.42892616,  0.        ,  0.        ],\n",
       "         [-1.34907738,  0.        ,  0.        ],\n",
       "         [-0.62783279,  0.        ,  0.        ]]]])"
      ]
     },
     "execution_count": 11,
     "metadata": {},
     "output_type": "execute_result"
    }
   ],
   "source": [
    "X_simulation"
   ]
  },
  {
   "cell_type": "code",
   "execution_count": 12,
   "id": "608509ee",
   "metadata": {},
   "outputs": [],
   "source": [
    "predictions = model.predict(X_simulation)"
   ]
  },
  {
   "cell_type": "code",
   "execution_count": 13,
   "id": "abcfa411",
   "metadata": {},
   "outputs": [],
   "source": [
    "model_SensorDrift = load_model('PredictFaultData_SensorDrift');\n",
    "model_ShaftWear = load_model('PredictFaultData_ShaftWear');\n",
    "model_ToothFault = load_model('PredictFaultData_ToothFault');"
   ]
  },
  {
   "cell_type": "code",
   "execution_count": 14,
   "id": "02bd6504",
   "metadata": {},
   "outputs": [],
   "source": [
    "prediction_SensorDrift = model_SensorDrift.predict(X_simulation)\n",
    "prediction_ShaftWear = model_ShaftWear.predict(X_simulation)\n",
    "prediction_ToothFault = model_ToothFault.predict(X_simulation)"
   ]
  },
  {
   "cell_type": "code",
   "execution_count": 15,
   "id": "f3631df0",
   "metadata": {},
   "outputs": [
    {
     "data": {
      "text/plain": [
       "array([[0.59930885]], dtype=float32)"
      ]
     },
     "execution_count": 15,
     "metadata": {},
     "output_type": "execute_result"
    }
   ],
   "source": [
    "prediction_SensorDrift"
   ]
  },
  {
   "cell_type": "code",
   "execution_count": 16,
   "id": "107a0c1b",
   "metadata": {},
   "outputs": [
    {
     "data": {
      "text/plain": [
       "array([[0.08464664]], dtype=float32)"
      ]
     },
     "execution_count": 16,
     "metadata": {},
     "output_type": "execute_result"
    }
   ],
   "source": [
    "prediction_ShaftWear"
   ]
  },
  {
   "cell_type": "code",
   "execution_count": 17,
   "id": "c1e1e051",
   "metadata": {},
   "outputs": [
    {
     "data": {
      "text/plain": [
       "array([[0.00020415]], dtype=float32)"
      ]
     },
     "execution_count": 17,
     "metadata": {},
     "output_type": "execute_result"
    }
   ],
   "source": [
    "prediction_ToothFault"
   ]
  },
  {
   "cell_type": "code",
   "execution_count": 18,
   "id": "6e68f4a9",
   "metadata": {},
   "outputs": [],
   "source": [
    "list_prediction_SensorDrift = prediction_SensorDrift.tolist()\n",
    "list_prediction_ShaftWear = prediction_ShaftWear.tolist()\n",
    "list_prediction_ToothFault = prediction_ToothFault.tolist()"
   ]
  },
  {
   "cell_type": "code",
   "execution_count": 19,
   "id": "371db881",
   "metadata": {},
   "outputs": [
    {
     "data": {
      "text/plain": [
       "0.0002041459083557129"
      ]
     },
     "execution_count": 19,
     "metadata": {},
     "output_type": "execute_result"
    }
   ],
   "source": [
    "list_prediction_ToothFault[0][0]"
   ]
  },
  {
   "cell_type": "code",
   "execution_count": 20,
   "id": "3dfde804",
   "metadata": {},
   "outputs": [],
   "source": [
    "threshpreds = [(list_prediction_SensorDrift[0][0] > 0.4) * 1,(list_prediction_ShaftWear[0][0] > 0.4) * 1, (list_prediction_ToothFault[0][0] > 0.4) * 1]"
   ]
  },
  {
   "cell_type": "code",
   "execution_count": 21,
   "id": "829749d8",
   "metadata": {},
   "outputs": [
    {
     "data": {
      "text/plain": [
       "[1, 0, 0]"
      ]
     },
     "execution_count": 21,
     "metadata": {},
     "output_type": "execute_result"
    }
   ],
   "source": [
    "threshpreds"
   ]
  },
  {
   "cell_type": "code",
   "execution_count": null,
   "id": "c984ff72",
   "metadata": {},
   "outputs": [],
   "source": []
  }
 ],
 "metadata": {
  "kernelspec": {
   "display_name": "Python 3",
   "language": "python",
   "name": "python3"
  },
  "language_info": {
   "codemirror_mode": {
    "name": "ipython",
    "version": 3
   },
   "file_extension": ".py",
   "mimetype": "text/x-python",
   "name": "python",
   "nbconvert_exporter": "python",
   "pygments_lexer": "ipython3",
   "version": "3.8.2"
  }
 },
 "nbformat": 4,
 "nbformat_minor": 5
}
